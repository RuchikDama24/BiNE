{
  "cells": [
    {
      "cell_type": "markdown",
      "metadata": {
        "id": "3yYtK9nwbCfw"
      },
      "source": [
        "# Node representation learning with GraphSAGE and UnsupervisedSampler\n"
      ]
    },
    {
      "cell_type": "markdown",
      "metadata": {
        "nbsphinx": "hidden",
        "tags": [
          "CloudRunner"
        ],
        "id": "VY9RHeyxbCf3"
      },
      "source": [
        "<table><tr><td>Run the latest release of this notebook:</td><td><a href=\"https://mybinder.org/v2/gh/stellargraph/stellargraph/master?urlpath=lab/tree/demos/embeddings/graphsage-unsupervised-sampler-embeddings.ipynb\" alt=\"Open In Binder\" target=\"_parent\"><img src=\"https://mybinder.org/badge_logo.svg\"/></a></td><td><a href=\"https://colab.research.google.com/github/stellargraph/stellargraph/blob/master/demos/embeddings/graphsage-unsupervised-sampler-embeddings.ipynb\" alt=\"Open In Colab\" target=\"_parent\"><img src=\"https://colab.research.google.com/assets/colab-badge.svg\"/></a></td></tr></table>"
      ]
    },
    {
      "cell_type": "markdown",
      "metadata": {
        "id": "ZxZWrdv0bCf4"
      },
      "source": [
        "Stellargraph Unsupervised GraphSAGE is the implementation of GraphSAGE method outlined in the paper: [Inductive Representation Learning on Large Graphs.](http://snap.stanford.edu/graphsage/) W.L. Hamilton, R. Ying, and J. Leskovec arXiv:1706.02216\n",
        "[cs.SI], 2017. \n",
        "\n",
        "This notebook is a short demo of how Stellargraph Unsupervised GraphSAGE can be used to learn embeddings of the nodes representing papers in the [CORA citation network](https://linqs-data.soe.ucsc.edu/public/lbc/cora.tgz). Furthermore, this notebook demonstrates the use of the learnt embeddings in a downstream node classification task (classifying papers by subject). Note that the node embeddings can also be used in other graph machine learning tasks, such as link prediction, community detection, etc.\n",
        "\n",
        "## Unsupervised GraphSAGE:\n",
        "\n",
        "A high-level explanation of the unsupervised GraphSAGE method of graph representation learning is as follows.\n",
        "\n",
        "Objective: *Given a graph, learn embeddings of the nodes using only the graph structure and the node features, without using any known node class labels* (hence \"unsupervised\"; for semi-supervised learning of node embeddings, see this [demo](../node-classification/graphsage-node-classification.ipynb))\n",
        "\n",
        "**Unsupervised GraphSAGE model:** In the Unsupervised GraphSAGE model, node embeddings are learnt by solving a simple classification task: given a large set of \"positive\" `(target, context)` node pairs generated from random walks performed on the graph (i.e., node pairs that co-occur within a certain context window in random walks), and an equally large set of \"negative\" node pairs that are randomly selected from the graph according to a certain distribution, learn a binary classifier that predicts whether arbitrary node pairs are likely to co-occur in a random walk performed on the graph. Through learning this simple binary node-pair-classification task, the model automatically learns an inductive mapping from attributes of nodes and their neighbors to node embeddings in a high-dimensional vector space, which preserves structural and feature similarities of the nodes. Unlike embeddings obtained by algorithms such as [Node2Vec](https://snap.stanford.edu/node2vec), this mapping is inductive: given a new node (with attributes) and its links to other nodes in the graph (which was unseen during model training), we can evaluate its embeddings without having to re-train the model. \n",
        "\n",
        "In our implementation of Unsupervised GraphSAGE, the training set of node pairs is composed of an equal number of positive and negative `(target, context)` pairs from the graph. The positive `(target, context)` pairs are the node pairs co-occurring on random walks over the graph whereas the negative node pairs are sampled randomly from a global node degree distribution of the graph.\n",
        "\n",
        "The architecture of the node pair classifier is the following. Input node pairs (with node features) are fed, together with the graph structure, into a pair of identical GraphSAGE encoders, producing a pair of node embeddings. These embeddings are then fed into a node pair classification layer, which applies a binary operator to those node embeddings (e.g., concatenating them), and passes the resulting node pair embeddings through a linear transform followed by a binary activation (e.g., sigmoid), thus predicting a binary label for the node pair. \n",
        "\n",
        "The entire model is trained end-to-end by minimizing the loss function of choice (e.g., binary cross-entropy between predicted node pair labels and true link labels) using stochastic gradient descent (SGD) updates of the model parameters, with minibatches of 'training' links generated on demand and fed into the model.\n",
        "\n",
        "Node embeddings obtained from the encoder part of the trained classifier can be used in various downstream tasks. In this demo, we show how these can be used for predicting node labels."
      ]
    },
    {
      "cell_type": "code",
      "execution_count": 1,
      "metadata": {
        "nbsphinx": "hidden",
        "tags": [
          "CloudRunner"
        ],
        "colab": {
          "base_uri": "https://localhost:8080/"
        },
        "id": "r_tPbB8qbCf5",
        "outputId": "c84cc6f5-692f-4a17-9766-994830ad90c4"
      },
      "outputs": [
        {
          "output_type": "stream",
          "name": "stdout",
          "text": [
            "\u001b[K     |████████████████████████████████| 435 kB 3.6 MB/s \n",
            "\u001b[K     |████████████████████████████████| 482 kB 24.2 MB/s \n",
            "\u001b[K     |████████████████████████████████| 462 kB 11.7 MB/s \n",
            "\u001b[K     |████████████████████████████████| 41 kB 243 kB/s \n",
            "\u001b[?25h  Building wheel for mplleaflet (setup.py) ... \u001b[?25l\u001b[?25hdone\n"
          ]
        }
      ],
      "source": [
        "# install StellarGraph if running on Google Colab\n",
        "import sys\n",
        "if 'google.colab' in sys.modules:\n",
        "  %pip install -q stellargraph[demos]==1.2.1"
      ]
    },
    {
      "cell_type": "code",
      "execution_count": 2,
      "metadata": {
        "nbsphinx": "hidden",
        "tags": [
          "VersionCheck"
        ],
        "id": "m6kXjSw3bCf6"
      },
      "outputs": [],
      "source": [
        "# verify that we're using the correct version of StellarGraph for this notebook\n",
        "import stellargraph as sg\n",
        "\n",
        "try:\n",
        "    sg.utils.validate_notebook_version(\"1.2.1\")\n",
        "except AttributeError:\n",
        "    raise ValueError(\n",
        "        f\"This notebook requires StellarGraph version 1.2.1, but a different version {sg.__version__} is installed.  Please see <https://github.com/stellargraph/stellargraph/issues/1172>.\"\n",
        "    ) from None"
      ]
    },
    {
      "cell_type": "code",
      "execution_count": 242,
      "metadata": {
        "id": "teo7QI8SbCf7"
      },
      "outputs": [],
      "source": [
        "import networkx as nx\n",
        "import pandas as pd\n",
        "import numpy as np\n",
        "import os\n",
        "import random\n",
        "from sklearn.cluster import DBSCAN\n",
        "import stellargraph as sg\n",
        "from stellargraph.data import EdgeSplitter\n",
        "from stellargraph.mapper import GraphSAGELinkGenerator\n",
        "from stellargraph.layer import GraphSAGE, link_classification\n",
        "from stellargraph.data import UniformRandomWalk\n",
        "from stellargraph.data import UnsupervisedSampler\n",
        "from sklearn.model_selection import train_test_split\n",
        "\n",
        "from tensorflow import keras\n",
        "from sklearn import preprocessing, feature_extraction, model_selection\n",
        "from sklearn.linear_model import LogisticRegressionCV, LogisticRegression\n",
        "from sklearn.metrics import accuracy_score\n",
        "\n",
        "from stellargraph import globalvar\n",
        "\n",
        "from stellargraph import datasets\n",
        "from IPython.display import display, HTML"
      ]
    },
    {
      "cell_type": "markdown",
      "metadata": {
        "id": "jBoj_WXvbCf7"
      },
      "source": [
        "## Loading the CORA network data"
      ]
    },
    {
      "cell_type": "markdown",
      "metadata": {
        "tags": [
          "DataLoadingLinks"
        ],
        "id": "xEzs5DDbbCf8"
      },
      "source": [
        "(See [the \"Loading from Pandas\" demo](../basics/loading-pandas.ipynb) for details on how data can be loaded.)"
      ]
    },
    {
      "cell_type": "code",
      "source": [
        "df.groupby(['foundational_repository']).nunique()#df['foundational_repository'].nunique()"
      ],
      "metadata": {
        "colab": {
          "base_uri": "https://localhost:8080/",
          "height": 206
        },
        "id": "2qJf5ufubNjc",
        "outputId": "5bd22852-a844-463c-99ff-450e7d3db7d4"
      },
      "execution_count": 240,
      "outputs": [
        {
          "output_type": "execute_result",
          "data": {
            "text/plain": [
              "                         forked_repository  User\n",
              "foundational_repository                         \n",
              "bert                                     6     6\n",
              "linux                                  169   169\n",
              "pytorch                                 27    27\n",
              "transformers                             7     7"
            ],
            "text/html": [
              "\n",
              "  <div id=\"df-cce78c65-8c00-4749-9018-1c89151c978d\">\n",
              "    <div class=\"colab-df-container\">\n",
              "      <div>\n",
              "<style scoped>\n",
              "    .dataframe tbody tr th:only-of-type {\n",
              "        vertical-align: middle;\n",
              "    }\n",
              "\n",
              "    .dataframe tbody tr th {\n",
              "        vertical-align: top;\n",
              "    }\n",
              "\n",
              "    .dataframe thead th {\n",
              "        text-align: right;\n",
              "    }\n",
              "</style>\n",
              "<table border=\"1\" class=\"dataframe\">\n",
              "  <thead>\n",
              "    <tr style=\"text-align: right;\">\n",
              "      <th></th>\n",
              "      <th>forked_repository</th>\n",
              "      <th>User</th>\n",
              "    </tr>\n",
              "    <tr>\n",
              "      <th>foundational_repository</th>\n",
              "      <th></th>\n",
              "      <th></th>\n",
              "    </tr>\n",
              "  </thead>\n",
              "  <tbody>\n",
              "    <tr>\n",
              "      <th>bert</th>\n",
              "      <td>6</td>\n",
              "      <td>6</td>\n",
              "    </tr>\n",
              "    <tr>\n",
              "      <th>linux</th>\n",
              "      <td>169</td>\n",
              "      <td>169</td>\n",
              "    </tr>\n",
              "    <tr>\n",
              "      <th>pytorch</th>\n",
              "      <td>27</td>\n",
              "      <td>27</td>\n",
              "    </tr>\n",
              "    <tr>\n",
              "      <th>transformers</th>\n",
              "      <td>7</td>\n",
              "      <td>7</td>\n",
              "    </tr>\n",
              "  </tbody>\n",
              "</table>\n",
              "</div>\n",
              "      <button class=\"colab-df-convert\" onclick=\"convertToInteractive('df-cce78c65-8c00-4749-9018-1c89151c978d')\"\n",
              "              title=\"Convert this dataframe to an interactive table.\"\n",
              "              style=\"display:none;\">\n",
              "        \n",
              "  <svg xmlns=\"http://www.w3.org/2000/svg\" height=\"24px\"viewBox=\"0 0 24 24\"\n",
              "       width=\"24px\">\n",
              "    <path d=\"M0 0h24v24H0V0z\" fill=\"none\"/>\n",
              "    <path d=\"M18.56 5.44l.94 2.06.94-2.06 2.06-.94-2.06-.94-.94-2.06-.94 2.06-2.06.94zm-11 1L8.5 8.5l.94-2.06 2.06-.94-2.06-.94L8.5 2.5l-.94 2.06-2.06.94zm10 10l.94 2.06.94-2.06 2.06-.94-2.06-.94-.94-2.06-.94 2.06-2.06.94z\"/><path d=\"M17.41 7.96l-1.37-1.37c-.4-.4-.92-.59-1.43-.59-.52 0-1.04.2-1.43.59L10.3 9.45l-7.72 7.72c-.78.78-.78 2.05 0 2.83L4 21.41c.39.39.9.59 1.41.59.51 0 1.02-.2 1.41-.59l7.78-7.78 2.81-2.81c.8-.78.8-2.07 0-2.86zM5.41 20L4 18.59l7.72-7.72 1.47 1.35L5.41 20z\"/>\n",
              "  </svg>\n",
              "      </button>\n",
              "      \n",
              "  <style>\n",
              "    .colab-df-container {\n",
              "      display:flex;\n",
              "      flex-wrap:wrap;\n",
              "      gap: 12px;\n",
              "    }\n",
              "\n",
              "    .colab-df-convert {\n",
              "      background-color: #E8F0FE;\n",
              "      border: none;\n",
              "      border-radius: 50%;\n",
              "      cursor: pointer;\n",
              "      display: none;\n",
              "      fill: #1967D2;\n",
              "      height: 32px;\n",
              "      padding: 0 0 0 0;\n",
              "      width: 32px;\n",
              "    }\n",
              "\n",
              "    .colab-df-convert:hover {\n",
              "      background-color: #E2EBFA;\n",
              "      box-shadow: 0px 1px 2px rgba(60, 64, 67, 0.3), 0px 1px 3px 1px rgba(60, 64, 67, 0.15);\n",
              "      fill: #174EA6;\n",
              "    }\n",
              "\n",
              "    [theme=dark] .colab-df-convert {\n",
              "      background-color: #3B4455;\n",
              "      fill: #D2E3FC;\n",
              "    }\n",
              "\n",
              "    [theme=dark] .colab-df-convert:hover {\n",
              "      background-color: #434B5C;\n",
              "      box-shadow: 0px 1px 3px 1px rgba(0, 0, 0, 0.15);\n",
              "      filter: drop-shadow(0px 1px 2px rgba(0, 0, 0, 0.3));\n",
              "      fill: #FFFFFF;\n",
              "    }\n",
              "  </style>\n",
              "\n",
              "      <script>\n",
              "        const buttonEl =\n",
              "          document.querySelector('#df-cce78c65-8c00-4749-9018-1c89151c978d button.colab-df-convert');\n",
              "        buttonEl.style.display =\n",
              "          google.colab.kernel.accessAllowed ? 'block' : 'none';\n",
              "\n",
              "        async function convertToInteractive(key) {\n",
              "          const element = document.querySelector('#df-cce78c65-8c00-4749-9018-1c89151c978d');\n",
              "          const dataTable =\n",
              "            await google.colab.kernel.invokeFunction('convertToInteractive',\n",
              "                                                     [key], {});\n",
              "          if (!dataTable) return;\n",
              "\n",
              "          const docLinkHtml = 'Like what you see? Visit the ' +\n",
              "            '<a target=\"_blank\" href=https://colab.research.google.com/notebooks/data_table.ipynb>data table notebook</a>'\n",
              "            + ' to learn more about interactive tables.';\n",
              "          element.innerHTML = '';\n",
              "          dataTable['output_type'] = 'display_data';\n",
              "          await google.colab.output.renderOutput(dataTable, element);\n",
              "          const docLink = document.createElement('div');\n",
              "          docLink.innerHTML = docLinkHtml;\n",
              "          element.appendChild(docLink);\n",
              "        }\n",
              "      </script>\n",
              "    </div>\n",
              "  </div>\n",
              "  "
            ]
          },
          "metadata": {},
          "execution_count": 240
        }
      ]
    },
    {
      "cell_type": "code",
      "execution_count": 34,
      "metadata": {
        "tags": [
          "DataLoading"
        ],
        "colab": {
          "base_uri": "https://localhost:8080/",
          "height": 52
        },
        "id": "q7DJaX3wbCf8",
        "outputId": "efdc3683-d8f1-4787-9c37-616515cef53d"
      },
      "outputs": [
        {
          "output_type": "display_data",
          "data": {
            "text/plain": [
              "<IPython.core.display.HTML object>"
            ],
            "text/html": [
              "The Cora dataset consists of 2708 scientific publications classified into one of seven classes. The citation network consists of 5429 links. Each publication in the dataset is described by a 0/1-valued word vector indicating the absence/presence of the corresponding word from the dictionary. The dictionary consists of 1433 unique words."
            ]
          },
          "metadata": {}
        }
      ],
      "source": [
        "dataset = datasets.Cora()\n",
        "display(HTML(dataset.description))\n",
        "G, node_subjects = dataset.load()"
      ]
    },
    {
      "cell_type": "code",
      "source": [
        "type(node_subjects)"
      ],
      "metadata": {
        "colab": {
          "base_uri": "https://localhost:8080/"
        },
        "id": "Ei0JXvY-PHI1",
        "outputId": "b0b8a9ee-3793-4fcd-a97c-abc31802cbb7"
      },
      "execution_count": 133,
      "outputs": [
        {
          "output_type": "execute_result",
          "data": {
            "text/plain": [
              "pandas.core.series.Series"
            ]
          },
          "metadata": {},
          "execution_count": 133
        }
      ]
    },
    {
      "cell_type": "code",
      "execution_count": 35,
      "metadata": {
        "colab": {
          "base_uri": "https://localhost:8080/"
        },
        "id": "HLbB3xqzbCf9",
        "outputId": "4e3da98a-1a4e-400d-f99c-916c77ae0005"
      },
      "outputs": [
        {
          "output_type": "stream",
          "name": "stdout",
          "text": [
            "StellarGraph: Undirected multigraph\n",
            " Nodes: 2708, Edges: 5429\n",
            "\n",
            " Node types:\n",
            "  paper: [2708]\n",
            "    Features: float32 vector, length 1433\n",
            "    Edge types: paper-cites->paper\n",
            "\n",
            " Edge types:\n",
            "    paper-cites->paper: [5429]\n",
            "        Weights: all 1 (default)\n",
            "        Features: none\n"
          ]
        }
      ],
      "source": [
        "print(G.info())"
      ]
    },
    {
      "cell_type": "code",
      "source": [
        "G.nodes()"
      ],
      "metadata": {
        "colab": {
          "base_uri": "https://localhost:8080/"
        },
        "id": "WN3IRftRiny8",
        "outputId": "c92b6fc8-5f36-4a9f-c986-8ec4e61ee641"
      },
      "execution_count": 36,
      "outputs": [
        {
          "output_type": "execute_result",
          "data": {
            "text/plain": [
              "Int64Index([  31336, 1061127, 1106406,   13195,   37879, 1126012, 1107140,\n",
              "            1102850,   31349, 1106418,\n",
              "            ...\n",
              "             626531, 1131180, 1130454, 1131184, 1128974, 1128975, 1128977,\n",
              "            1128978,  117328,   24043],\n",
              "           dtype='int64', length=2708)"
            ]
          },
          "metadata": {},
          "execution_count": 36
        }
      ]
    },
    {
      "cell_type": "code",
      "source": [
        "from google.colab import drive\n",
        "drive.mount('/content/drive', force_remount=True)"
      ],
      "metadata": {
        "colab": {
          "base_uri": "https://localhost:8080/"
        },
        "id": "mV65p6VnbT8I",
        "outputId": "9afaa5e5-38ba-4fb5-ea73-8b1dfad5b5c4"
      },
      "execution_count": 6,
      "outputs": [
        {
          "output_type": "stream",
          "name": "stdout",
          "text": [
            "Mounted at /content/drive\n"
          ]
        }
      ]
    },
    {
      "cell_type": "markdown",
      "metadata": {
        "id": "Rq3ZDx9DbCf9"
      },
      "source": [
        "## Unsupervised GraphSAGE  with on demand sampling\n",
        "The Unsupervised GraphSAGE requires a training sample that can be either provided as a list of `(target, context)` node pairs or it can be provided with an `UnsupervisedSampler` instance that takes care of generating positive and negative samples of node pairs on demand. In this demo we discuss the latter technique. \n",
        "\n",
        "### UnsupervisedSampler:\n",
        "The `UnsupervisedSampler` class takes in a `Stellargraph` graph instance. The `generator` method in the `UnsupervisedSampler`  is responsible for generating equal number of positive and negative node pair samples from the graph  for training. The samples are generated by performing uniform random walks over the graph, using `UniformRandomWalk` object. Positive `(target, context)` node pairs are extracted from the walks, and for each \n",
        "positive pair a corresponding negative pair `(target, node)` is generated by randomly sampling `node` from the degree distribution of the graph. Once the `batch_size` number of samples is accumulated, the generator yields a list of positive and negative node pairs along with their respective 1/0 labels.  \n",
        "\n",
        "In the current implementation, we use uniform random walks to explore the graph structure. The length and number of walks, as well as the root nodes for starting the walks can be user-specified. The default list for root nodes is all nodes of the graph, default `number_of_walks` is 1 (at least one walk per root node), and the default `length` of walks is 2 (need at least one node beyond the root node on the walk as a potential positive context)."
      ]
    },
    {
      "cell_type": "markdown",
      "metadata": {
        "id": "9USrjp7AbCf9"
      },
      "source": [
        "**1. Specify the other optional parameter values: root nodes, the number of walks to take per node, the length of each walk, and random seed.**"
      ]
    },
    {
      "cell_type": "code",
      "source": [
        "df=pd.read_csv(\"/content/drive/MyDrive/RA_GITHUB/Repo-User.csv\")\n"
      ],
      "metadata": {
        "id": "HZCEYnS0eTLl"
      },
      "execution_count": 177,
      "outputs": []
    },
    {
      "cell_type": "code",
      "source": [
        "v=pd.read_csv('/content/drive/MyDrive/RA_GITHUB/vuln.csv')"
      ],
      "metadata": {
        "id": "0q3drRdA6J9K"
      },
      "execution_count": 178,
      "outputs": []
    },
    {
      "cell_type": "code",
      "source": [
        "df['foundational_repository']\n"
      ],
      "metadata": {
        "colab": {
          "base_uri": "https://localhost:8080/"
        },
        "id": "L2CmXFLce_8c",
        "outputId": "6cc0b34a-6880-4de9-f018-ac8557801e73"
      },
      "execution_count": 179,
      "outputs": [
        {
          "output_type": "execute_result",
          "data": {
            "text/plain": [
              "0      pytorch\n",
              "1      pytorch\n",
              "2      pytorch\n",
              "3      pytorch\n",
              "4      pytorch\n",
              "        ...   \n",
              "204       bert\n",
              "205       bert\n",
              "206       bert\n",
              "207       bert\n",
              "208       bert\n",
              "Name: foundational_repository, Length: 209, dtype: object"
            ]
          },
          "metadata": {},
          "execution_count": 179
        }
      ]
    },
    {
      "cell_type": "code",
      "source": [
        "from sklearn.preprocessing import LabelEncoder\n",
        "#\n",
        "# Instantiate LabelEncoder\n",
        "#\n",
        "le = LabelEncoder()\n",
        "#\n",
        "# Encode single column status\n",
        "#\n",
        "v['test_name_cat'] = le.fit_transform(v.test_name)\n",
        "#\n",
        "# Print df.head for checking the transformation\n",
        "#\n",
        "v['test_name_cat'].unique()"
      ],
      "metadata": {
        "colab": {
          "base_uri": "https://localhost:8080/"
        },
        "id": "jRlvp2dnk9OL",
        "outputId": "e4c15d03-f884-4aad-e03e-a642f47213f7"
      },
      "execution_count": 328,
      "outputs": [
        {
          "output_type": "execute_result",
          "data": {
            "text/plain": [
              "array([1, 3, 4, 5, 0, 2])"
            ]
          },
          "metadata": {},
          "execution_count": 328
        }
      ]
    },
    {
      "cell_type": "code",
      "source": [
        "from sklearn.preprocessing import LabelEncoder\n",
        "#\n",
        "# Instantiate LabelEncoder\n",
        "#\n",
        "le = LabelEncoder()\n",
        "#\n",
        "# Encode single column status\n",
        "#\n",
        "df.foundational_repository = le.fit_transform(df.foundational_repository)\n",
        "#\n",
        "# Print df.head for checking the transformation\n",
        "#\n",
        "df['foundational_repository'].unique()"
      ],
      "metadata": {
        "colab": {
          "base_uri": "https://localhost:8080/"
        },
        "id": "vO45egBhjSzA",
        "outputId": "a0b4befb-d307-4f91-9915-4bd36354ec29"
      },
      "execution_count": 156,
      "outputs": [
        {
          "output_type": "execute_result",
          "data": {
            "text/plain": [
              "array([2, 3, 1, 0])"
            ]
          },
          "metadata": {},
          "execution_count": 156
        }
      ]
    },
    {
      "cell_type": "code",
      "source": [
        "G=nx.from_pandas_edgelist(df, 'foundational_repository', 'User')"
      ],
      "metadata": {
        "id": "SD_aUtpPfIY9"
      },
      "execution_count": 180,
      "outputs": []
    },
    {
      "cell_type": "code",
      "source": [
        "u=df['User'].unique()\n",
        "fr=df['foundational_repository'].unique()\n",
        "mapping={}\n",
        "for i in range(0,len(fr)):\n",
        "  mapping[fr[i]]=i\n",
        "for i in range(len(fr),len(fr)+len(u)):\n",
        "  mapping[u[i-len(fr)]]=i\n",
        "mapping"
      ],
      "metadata": {
        "colab": {
          "base_uri": "https://localhost:8080/"
        },
        "id": "HU8fK89CpT8I",
        "outputId": "8ad91597-c544-479c-9dbc-315acc3fb902"
      },
      "execution_count": 181,
      "outputs": [
        {
          "output_type": "execute_result",
          "data": {
            "text/plain": [
              "{'283Assignments': 186,\n",
              " '360nanographine': 173,\n",
              " 'AlbanBedel': 81,\n",
              " 'Allan-sketch': 201,\n",
              " 'AnishaA-git': 183,\n",
              " 'Arzte': 125,\n",
              " 'AsahiLinux': 187,\n",
              " 'CDSRV': 177,\n",
              " 'Checle': 140,\n",
              " 'Ches1422': 25,\n",
              " 'ClangBuiltLinux': 132,\n",
              " 'CmdrMoozy': 181,\n",
              " 'Combitech': 39,\n",
              " 'CreatorDev': 107,\n",
              " 'CybrixSystems': 49,\n",
              " 'Dawars': 16,\n",
              " 'Distrotech': 61,\n",
              " 'EdwardSam4': 19,\n",
              " 'Elyotna': 133,\n",
              " 'FunKey-Project': 182,\n",
              " 'GustavoBBP': 202,\n",
              " 'Insei': 141,\n",
              " 'JasonKou': 69,\n",
              " 'JuriBurakov': 194,\n",
              " 'KSPP': 161,\n",
              " 'Kernel-Study': 191,\n",
              " 'Moonlight56': 12,\n",
              " 'Muennighoff': 34,\n",
              " 'PabloPL': 128,\n",
              " 'RBFDO': 22,\n",
              " 'ROCmSoftwarePlatform': 11,\n",
              " 'RobinBressan': 78,\n",
              " 'Rust-for-Linux': 160,\n",
              " 'SoMainline': 178,\n",
              " 'Sonicadvance1': 163,\n",
              " 'SplitInfinity': 24,\n",
              " 'SsnL': 8,\n",
              " 'Taupo13': 105,\n",
              " 'TeHikuMedia': 210,\n",
              " 'TestCase1234': 199,\n",
              " 'Timoteo714': 170,\n",
              " 'TrueBlueCaponeBigMonticello': 142,\n",
              " 'VictorNogueiraRio': 154,\n",
              " 'VitalyFedyunin': 14,\n",
              " 'WOA-Project': 176,\n",
              " 'WinPlay02': 110,\n",
              " 'YibangHeng': 137,\n",
              " 'akesterson': 72,\n",
              " 'alistair23': 147,\n",
              " 'alkariuki': 198,\n",
              " 'andy-shev': 67,\n",
              " 'aricheto': 17,\n",
              " 'asheplyakov': 171,\n",
              " 'baklanomax': 205,\n",
              " 'baoruxing': 58,\n",
              " 'bastenlee': 113,\n",
              " 'bedbad': 101,\n",
              " 'belucha': 68,\n",
              " 'benchabot': 209,\n",
              " 'benixlinux': 145,\n",
              " 'bert': 3,\n",
              " 'bluecherrydvr': 76,\n",
              " 'bootc': 41,\n",
              " 'btrfs': 111,\n",
              " 'cavium-octeon-open-source': 73,\n",
              " 'cdolan': 189,\n",
              " 'chai3819': 90,\n",
              " 'colesbury': 4,\n",
              " 'cpuex2019-yokyo': 164,\n",
              " 'crash0verrid3': 106,\n",
              " 'crust-firmware': 124,\n",
              " 'csarofeen': 5,\n",
              " 'darkbasic': 120,\n",
              " 'deepmipt': 206,\n",
              " 'dhruvdcoder': 31,\n",
              " 'din982': 99,\n",
              " 'dl4fugaku': 21,\n",
              " 'dongsupark': 75,\n",
              " 'e-mailky': 63,\n",
              " 'ebertland': 115,\n",
              " 'elizgarcia5': 29,\n",
              " 'ericvh': 38,\n",
              " 'fastly': 54,\n",
              " 'fiberdyne': 144,\n",
              " 'fogtech-io': 151,\n",
              " 'forresti': 32,\n",
              " 'forte916': 139,\n",
              " 'foss-for-synopsys-dwc-arc-processors': 44,\n",
              " 'fr0st61te': 108,\n",
              " 'frakman1': 204,\n",
              " 'frno7': 118,\n",
              " 'gakiwate': 43,\n",
              " 'gate5': 150,\n",
              " 'gautshen': 175,\n",
              " 'gchanan': 6,\n",
              " 'getcontext': 195,\n",
              " 'grubern': 94,\n",
              " 'gyanesh-mahana': 50,\n",
              " 'h4ck3rm1k3': 51,\n",
              " 'hardkernel': 48,\n",
              " 'heikomat': 134,\n",
              " 'heitorschueroff': 27,\n",
              " 'https-github-com-JuriBurakov': 193,\n",
              " 'huawei-erc': 62,\n",
              " 'hunter-packages': 18,\n",
              " 'hygoni': 196,\n",
              " 'iamroot16': 165,\n",
              " 'iamroot2016': 96,\n",
              " 'iamroot9C-arm': 46,\n",
              " 'janzhou': 53,\n",
              " 'jeenathampi': 184,\n",
              " 'jlelli': 60,\n",
              " 'jm-ds': 149,\n",
              " 'jr38': 100,\n",
              " 'kali-tomi': 197,\n",
              " 'kata-containers': 123,\n",
              " 'kleopatra999': 77,\n",
              " 'kohtala': 86,\n",
              " 'kun1010': 109,\n",
              " 'kurt-vd': 55,\n",
              " 'kushagra765': 200,\n",
              " 'l1k': 82,\n",
              " 'leach-mrt': 168,\n",
              " 'linaro-swg': 80,\n",
              " 'linux': 2,\n",
              " 'linux-3ds': 188,\n",
              " 'linux-can': 162,\n",
              " 'linux-kernel-labs': 117,\n",
              " 'linuxppc': 83,\n",
              " 'lkl': 87,\n",
              " 'lonerinthenight': 169,\n",
              " 'maandree': 45,\n",
              " 'mahmoudSalim': 122,\n",
              " 'majacQ': 30,\n",
              " 'marckleinebudde': 172,\n",
              " 'minsk-hackerspace': 126,\n",
              " 'mitake': 42,\n",
              " 'mpe': 56,\n",
              " 'msm8916-mainline': 156,\n",
              " 'mstram': 143,\n",
              " 'mt6735-mainline': 190,\n",
              " 'mtbrandy': 13,\n",
              " 'nagya11': 92,\n",
              " 'naota': 167,\n",
              " 'ndauten': 89,\n",
              " 'neuschaefer': 112,\n",
              " 'nhoriguchi': 74,\n",
              " 'nihospr01': 179,\n",
              " 'nikomall34': 174,\n",
              " 'nora55974': 97,\n",
              " 'nouredd2': 119,\n",
              " 'obbardc': 159,\n",
              " 'omerfeyyaz': 95,\n",
              " 'onejiin': 35,\n",
              " 'open-power': 71,\n",
              " 'open-power-host-os': 98,\n",
              " 'openbmc': 84,\n",
              " 'openthos': 88,\n",
              " 'pesader': 203,\n",
              " 'pgwipeout': 130,\n",
              " 'planetA': 152,\n",
              " 'plasticlogic': 57,\n",
              " 'pop-os': 129,\n",
              " 'probtorch': 9,\n",
              " 'ptrpovtyu': 10,\n",
              " 'pytorch': 0,\n",
              " 'quickwritereader': 23,\n",
              " 'rafi-cohen': 28,\n",
              " 'ranjanrakesh': 59,\n",
              " 'restaurant-wan': 208,\n",
              " 'reveriel': 146,\n",
              " 'rib': 70,\n",
              " 'rickgaiser': 64,\n",
              " 'runt18': 93,\n",
              " 'ryany1819': 192,\n",
              " 'sdsxpln': 135,\n",
              " 'secure-vendor': 158,\n",
              " 'seekdwh': 85,\n",
              " 'sh-noma': 136,\n",
              " 'shlomo90': 157,\n",
              " 'sky9723': 102,\n",
              " 'smoukk85': 52,\n",
              " 'soechun': 131,\n",
              " 'stanford-crfm': 33,\n",
              " 'stephank': 91,\n",
              " 'surgan12': 15,\n",
              " 'swoook': 37,\n",
              " 'systemd': 79,\n",
              " 'techavi': 40,\n",
              " 'techping': 116,\n",
              " 'thesofproject': 138,\n",
              " 'tobetter': 47,\n",
              " 'transformers': 1,\n",
              " 'tryalice': 26,\n",
              " 'tunib-ai': 36,\n",
              " 'ukihsoroy': 166,\n",
              " 'utilite-and-friends': 114,\n",
              " 'vaasu': 148,\n",
              " 'valeriedavispayton': 66,\n",
              " 'voetbalman': 103,\n",
              " 'wan-nyan-wan': 180,\n",
              " 'wbs0829': 121,\n",
              " 'whereivebeen': 127,\n",
              " 'wyscjm': 65,\n",
              " 'x30n': 153,\n",
              " 'xaptum': 155,\n",
              " 'xen-troops': 104,\n",
              " 'yanxiaobing2020': 185,\n",
              " 'zdevito': 7,\n",
              " 'zhiqwang': 20,\n",
              " 'zylhub': 207}"
            ]
          },
          "metadata": {},
          "execution_count": 181
        }
      ]
    },
    {
      "cell_type": "code",
      "source": [
        "nx.draw(G)"
      ],
      "metadata": {
        "colab": {
          "base_uri": "https://localhost:8080/",
          "height": 319
        },
        "id": "bybVs98iSROn",
        "outputId": "27990830-0056-4605-cb24-67125bb969d1"
      },
      "execution_count": 182,
      "outputs": [
        {
          "output_type": "display_data",
          "data": {
            "text/plain": [
              "<Figure size 432x288 with 1 Axes>"
            ],
            "image/png": "[encoded data removed]"
          },
          "metadata": {}
        }
      ]
    },
    {
      "cell_type": "code",
      "source": [
        "len(v['test_name'].unique())"
      ],
      "metadata": {
        "colab": {
          "base_uri": "https://localhost:8080/"
        },
        "id": "UZNABjDW6jWH",
        "outputId": "a05e2c31-b94e-458a-db65-bdbff541fe86"
      },
      "execution_count": 329,
      "outputs": [
        {
          "output_type": "execute_result",
          "data": {
            "text/plain": [
              "6"
            ]
          },
          "metadata": {},
          "execution_count": 329
        }
      ]
    },
    {
      "cell_type": "code",
      "source": [
        "v"
      ],
      "metadata": {
        "id": "p34rOdXBmQGC"
      },
      "execution_count": null,
      "outputs": []
    },
    {
      "cell_type": "code",
      "source": [
        "a=[0,0,0,0]"
      ],
      "metadata": {
        "id": "oPgq6SQI7Jrm"
      },
      "execution_count": 331,
      "outputs": []
    },
    {
      "cell_type": "code",
      "source": [
        "a"
      ],
      "metadata": {
        "colab": {
          "base_uri": "https://localhost:8080/"
        },
        "id": "5U0TMUbe9YfG",
        "outputId": "759c1c44-f4e5-451d-8169-f6dd1cafc943"
      },
      "execution_count": 186,
      "outputs": [
        {
          "output_type": "execute_result",
          "data": {
            "text/plain": [
              "[0, 0, 0, 0]"
            ]
          },
          "metadata": {},
          "execution_count": 186
        }
      ]
    },
    {
      "cell_type": "code",
      "source": [
        "len(list(v['issue_severity_cat']))"
      ],
      "metadata": {
        "colab": {
          "base_uri": "https://localhost:8080/"
        },
        "id": "Ulv4gh2b9Elf",
        "outputId": "b79e56a4-2e46-4d93-e6f3-3f8dfa124669"
      },
      "execution_count": 187,
      "outputs": [
        {
          "output_type": "execute_result",
          "data": {
            "text/plain": [
              "75"
            ]
          },
          "metadata": {},
          "execution_count": 187
        }
      ]
    },
    {
      "cell_type": "code",
      "source": [
        "len(mapping)"
      ],
      "metadata": {
        "colab": {
          "base_uri": "https://localhost:8080/"
        },
        "id": "p-ioUqBH8_KM",
        "outputId": "83611075-3efe-48f5-e494-d01f7c6c1a14"
      },
      "execution_count": 188,
      "outputs": [
        {
          "output_type": "execute_result",
          "data": {
            "text/plain": [
              "211"
            ]
          },
          "metadata": {},
          "execution_count": 188
        }
      ]
    },
    {
      "cell_type": "code",
      "source": [
        "a.extend(list(v['issue_severity_cat']))\n",
        "a.extend([random.randint(0,5) for _ in range(len(mapping)-len(list(v['issue_severity_cat']))-4)])\n",
        "len(a)"
      ],
      "metadata": {
        "colab": {
          "base_uri": "https://localhost:8080/"
        },
        "id": "Ds64Pb0M7Hlk",
        "outputId": "195a5b1c-75cf-4ad6-e63f-eaecca7293b2"
      },
      "execution_count": 332,
      "outputs": [
        {
          "output_type": "execute_result",
          "data": {
            "text/plain": [
              "211"
            ]
          },
          "metadata": {},
          "execution_count": 332
        }
      ]
    },
    {
      "cell_type": "code",
      "source": [
        "fr=list(df['foundational_repository'].unique())\n",
        "fr.extend(list(df['User'].unique()))"
      ],
      "metadata": {
        "id": "uv-Vc4brR71a"
      },
      "execution_count": 166,
      "outputs": []
    },
    {
      "cell_type": "code",
      "source": [
        "node_data = pd.DataFrame(\n",
        "    a,\n",
        "    index=list(range(len(mapping))))"
      ],
      "metadata": {
        "id": "MPLi1iSF6i5v"
      },
      "execution_count": 333,
      "outputs": []
    },
    {
      "cell_type": "code",
      "source": [
        "node_data"
      ],
      "metadata": {
        "colab": {
          "base_uri": "https://localhost:8080/",
          "height": 423
        },
        "id": "IxopiQTG64Rn",
        "outputId": "df2a70c1-0b96-4a7f-b536-408b6b3bd60f"
      },
      "execution_count": 334,
      "outputs": [
        {
          "output_type": "execute_result",
          "data": {
            "text/plain": [
              "     0\n",
              "0    0\n",
              "1    0\n",
              "2    0\n",
              "3    0\n",
              "4    0\n",
              "..  ..\n",
              "206  0\n",
              "207  2\n",
              "208  5\n",
              "209  5\n",
              "210  1\n",
              "\n",
              "[211 rows x 1 columns]"
            ],
            "text/html": [
              "\n",
              "  <div id=\"df-87aa583b-dcea-4e52-93cc-1cddb7024abb\">\n",
              "    <div class=\"colab-df-container\">\n",
              "      <div>\n",
              "<style scoped>\n",
              "    .dataframe tbody tr th:only-of-type {\n",
              "        vertical-align: middle;\n",
              "    }\n",
              "\n",
              "    .dataframe tbody tr th {\n",
              "        vertical-align: top;\n",
              "    }\n",
              "\n",
              "    .dataframe thead th {\n",
              "        text-align: right;\n",
              "    }\n",
              "</style>\n",
              "<table border=\"1\" class=\"dataframe\">\n",
              "  <thead>\n",
              "    <tr style=\"text-align: right;\">\n",
              "      <th></th>\n",
              "      <th>0</th>\n",
              "    </tr>\n",
              "  </thead>\n",
              "  <tbody>\n",
              "    <tr>\n",
              "      <th>0</th>\n",
              "      <td>0</td>\n",
              "    </tr>\n",
              "    <tr>\n",
              "      <th>1</th>\n",
              "      <td>0</td>\n",
              "    </tr>\n",
              "    <tr>\n",
              "      <th>2</th>\n",
              "      <td>0</td>\n",
              "    </tr>\n",
              "    <tr>\n",
              "      <th>3</th>\n",
              "      <td>0</td>\n",
              "    </tr>\n",
              "    <tr>\n",
              "      <th>4</th>\n",
              "      <td>0</td>\n",
              "    </tr>\n",
              "    <tr>\n",
              "      <th>...</th>\n",
              "      <td>...</td>\n",
              "    </tr>\n",
              "    <tr>\n",
              "      <th>206</th>\n",
              "      <td>0</td>\n",
              "    </tr>\n",
              "    <tr>\n",
              "      <th>207</th>\n",
              "      <td>2</td>\n",
              "    </tr>\n",
              "    <tr>\n",
              "      <th>208</th>\n",
              "      <td>5</td>\n",
              "    </tr>\n",
              "    <tr>\n",
              "      <th>209</th>\n",
              "      <td>5</td>\n",
              "    </tr>\n",
              "    <tr>\n",
              "      <th>210</th>\n",
              "      <td>1</td>\n",
              "    </tr>\n",
              "  </tbody>\n",
              "</table>\n",
              "<p>211 rows × 1 columns</p>\n",
              "</div>\n",
              "      <button class=\"colab-df-convert\" onclick=\"convertToInteractive('df-87aa583b-dcea-4e52-93cc-1cddb7024abb')\"\n",
              "              title=\"Convert this dataframe to an interactive table.\"\n",
              "              style=\"display:none;\">\n",
              "        \n",
              "  <svg xmlns=\"http://www.w3.org/2000/svg\" height=\"24px\"viewBox=\"0 0 24 24\"\n",
              "       width=\"24px\">\n",
              "    <path d=\"M0 0h24v24H0V0z\" fill=\"none\"/>\n",
              "    <path d=\"M18.56 5.44l.94 2.06.94-2.06 2.06-.94-2.06-.94-.94-2.06-.94 2.06-2.06.94zm-11 1L8.5 8.5l.94-2.06 2.06-.94-2.06-.94L8.5 2.5l-.94 2.06-2.06.94zm10 10l.94 2.06.94-2.06 2.06-.94-2.06-.94-.94-2.06-.94 2.06-2.06.94z\"/><path d=\"M17.41 7.96l-1.37-1.37c-.4-.4-.92-.59-1.43-.59-.52 0-1.04.2-1.43.59L10.3 9.45l-7.72 7.72c-.78.78-.78 2.05 0 2.83L4 21.41c.39.39.9.59 1.41.59.51 0 1.02-.2 1.41-.59l7.78-7.78 2.81-2.81c.8-.78.8-2.07 0-2.86zM5.41 20L4 18.59l7.72-7.72 1.47 1.35L5.41 20z\"/>\n",
              "  </svg>\n",
              "      </button>\n",
              "      \n",
              "  <style>\n",
              "    .colab-df-container {\n",
              "      display:flex;\n",
              "      flex-wrap:wrap;\n",
              "      gap: 12px;\n",
              "    }\n",
              "\n",
              "    .colab-df-convert {\n",
              "      background-color: #E8F0FE;\n",
              "      border: none;\n",
              "      border-radius: 50%;\n",
              "      cursor: pointer;\n",
              "      display: none;\n",
              "      fill: #1967D2;\n",
              "      height: 32px;\n",
              "      padding: 0 0 0 0;\n",
              "      width: 32px;\n",
              "    }\n",
              "\n",
              "    .colab-df-convert:hover {\n",
              "      background-color: #E2EBFA;\n",
              "      box-shadow: 0px 1px 2px rgba(60, 64, 67, 0.3), 0px 1px 3px 1px rgba(60, 64, 67, 0.15);\n",
              "      fill: #174EA6;\n",
              "    }\n",
              "\n",
              "    [theme=dark] .colab-df-convert {\n",
              "      background-color: #3B4455;\n",
              "      fill: #D2E3FC;\n",
              "    }\n",
              "\n",
              "    [theme=dark] .colab-df-convert:hover {\n",
              "      background-color: #434B5C;\n",
              "      box-shadow: 0px 1px 3px 1px rgba(0, 0, 0, 0.15);\n",
              "      filter: drop-shadow(0px 1px 2px rgba(0, 0, 0, 0.3));\n",
              "      fill: #FFFFFF;\n",
              "    }\n",
              "  </style>\n",
              "\n",
              "      <script>\n",
              "        const buttonEl =\n",
              "          document.querySelector('#df-87aa583b-dcea-4e52-93cc-1cddb7024abb button.colab-df-convert');\n",
              "        buttonEl.style.display =\n",
              "          google.colab.kernel.accessAllowed ? 'block' : 'none';\n",
              "\n",
              "        async function convertToInteractive(key) {\n",
              "          const element = document.querySelector('#df-87aa583b-dcea-4e52-93cc-1cddb7024abb');\n",
              "          const dataTable =\n",
              "            await google.colab.kernel.invokeFunction('convertToInteractive',\n",
              "                                                     [key], {});\n",
              "          if (!dataTable) return;\n",
              "\n",
              "          const docLinkHtml = 'Like what you see? Visit the ' +\n",
              "            '<a target=\"_blank\" href=https://colab.research.google.com/notebooks/data_table.ipynb>data table notebook</a>'\n",
              "            + ' to learn more about interactive tables.';\n",
              "          element.innerHTML = '';\n",
              "          dataTable['output_type'] = 'display_data';\n",
              "          await google.colab.output.renderOutput(dataTable, element);\n",
              "          const docLink = document.createElement('div');\n",
              "          docLink.innerHTML = docLinkHtml;\n",
              "          element.appendChild(docLink);\n",
              "        }\n",
              "      </script>\n",
              "    </div>\n",
              "  </div>\n",
              "  "
            ]
          },
          "metadata": {},
          "execution_count": 334
        }
      ]
    },
    {
      "cell_type": "code",
      "source": [
        "G=nx.relabel_nodes(G,mapping)"
      ],
      "metadata": {
        "id": "EK_nmKnZo5Tl"
      },
      "execution_count": 335,
      "outputs": []
    },
    {
      "cell_type": "code",
      "source": [
        "G.nodes"
      ],
      "metadata": {
        "colab": {
          "base_uri": "https://localhost:8080/"
        },
        "id": "eT32iAVapEqZ",
        "outputId": "3b05b57c-8d1d-43d6-b6ab-4534059b1db0"
      },
      "execution_count": 336,
      "outputs": [
        {
          "output_type": "execute_result",
          "data": {
            "text/plain": [
              "NodeView((0, 4, 5, 6, 7, 8, 9, 10, 11, 12, 13, 14, 15, 16, 17, 18, 19, 20, 21, 22, 23, 24, 25, 26, 27, 28, 29, 30, 1, 31, 32, 33, 34, 35, 36, 37, 2, 38, 39, 40, 41, 42, 43, 44, 45, 46, 47, 48, 49, 50, 51, 52, 53, 54, 55, 56, 57, 58, 59, 60, 61, 62, 63, 64, 65, 66, 67, 68, 69, 70, 71, 72, 73, 74, 75, 76, 77, 78, 79, 80, 81, 82, 83, 84, 85, 86, 87, 88, 89, 90, 91, 92, 93, 94, 95, 96, 97, 98, 99, 100, 101, 102, 103, 104, 105, 106, 107, 108, 109, 110, 111, 112, 113, 114, 115, 116, 117, 118, 119, 120, 121, 122, 123, 124, 125, 126, 127, 128, 129, 130, 131, 132, 133, 134, 135, 136, 137, 138, 139, 140, 141, 142, 143, 144, 145, 146, 147, 148, 149, 150, 151, 152, 153, 154, 155, 156, 157, 158, 159, 160, 161, 162, 163, 164, 165, 166, 167, 168, 169, 170, 171, 172, 173, 174, 175, 176, 177, 178, 179, 180, 181, 182, 183, 184, 185, 186, 187, 188, 189, 190, 191, 192, 193, 194, 195, 196, 197, 198, 199, 200, 201, 202, 203, 204, 205, 3, 206, 207, 208, 209, 210))"
            ]
          },
          "metadata": {},
          "execution_count": 336
        }
      ]
    },
    {
      "cell_type": "code",
      "source": [
        "from stellargraph import StellarGraph\n",
        "G1 = StellarGraph.from_networkx(G,node_features=node_data)"
      ],
      "metadata": {
        "id": "gXLzdygAqp7i"
      },
      "execution_count": 337,
      "outputs": []
    },
    {
      "cell_type": "code",
      "source": [
        "#G1=sg.from_networkx(G)\n",
        "from stellargraph import StellarGraph\n",
        "edges=df[['foundational_repository','User']]\n",
        "edges=edges.rename(columns={\"foundational_repository\":\"source\",\"User\":\"target\"})\n",
        "G1 = StellarGraph(edges=edges)"
      ],
      "metadata": {
        "id": "kfgnYX1nfg-r"
      },
      "execution_count": 195,
      "outputs": []
    },
    {
      "cell_type": "code",
      "execution_count": 338,
      "metadata": {
        "id": "zBwNWh-wbCf9"
      },
      "outputs": [],
      "source": [
        "nodes = list(G1.nodes())\n",
        "number_of_walks = 1\n",
        "length = 5"
      ]
    },
    {
      "cell_type": "markdown",
      "metadata": {
        "id": "CRGlYDAEbCf-"
      },
      "source": [
        "**2. Create the UnsupervisedSampler instance with the relevant parameters passed to it.**"
      ]
    },
    {
      "cell_type": "code",
      "source": [
        "G1.nodes()"
      ],
      "metadata": {
        "colab": {
          "base_uri": "https://localhost:8080/"
        },
        "id": "gCrUxheRVlrM",
        "outputId": "d0836c5d-0162-40cd-d721-a3a593d6f22f"
      },
      "execution_count": 339,
      "outputs": [
        {
          "output_type": "execute_result",
          "data": {
            "text/plain": [
              "Int64Index([  0,   1,   2,   3,   4,   5,   6,   7,   8,   9,\n",
              "            ...\n",
              "            201, 202, 203, 204, 205, 206, 207, 208, 209, 210],\n",
              "           dtype='int64', length=211)"
            ]
          },
          "metadata": {},
          "execution_count": 339
        }
      ]
    },
    {
      "cell_type": "code",
      "execution_count": 340,
      "metadata": {
        "id": "L6YOd9jIbCf-"
      },
      "outputs": [],
      "source": [
        "unsupervised_samples = UnsupervisedSampler(\n",
        "    G1, nodes=nodes, length=length, number_of_walks=number_of_walks\n",
        ")"
      ]
    },
    {
      "cell_type": "markdown",
      "metadata": {
        "id": "AfhnAcKCbCf-"
      },
      "source": [
        "The graph G together with the unsupervised sampler will be used to generate samples."
      ]
    },
    {
      "cell_type": "markdown",
      "metadata": {
        "id": "Gk3PScm2bCf-"
      },
      "source": [
        "**3. Create a node pair generator:**\n",
        "\n",
        "Next, create the node pair generator for sampling and streaming the training data to the model. The node pair generator essentially \"maps\" pairs of nodes `(target, context)` to the input of GraphSAGE: it either takes minibatches of node pairs, or an `UnsupervisedSampler` instance which generates the minibatches of node pairs on demand. The generator samples 2-hop subgraphs with `(target, context)` head nodes extracted from those pairs, and feeds them, together with the corresponding binary labels indicating which pair represent positive or negative sample, to the input layer of the node pair classifier with GraphSAGE node encoder, for SGD updates of the model parameters.\n",
        "\n",
        "Specify:\n",
        "1. The minibatch size (number of node pairs per minibatch).\n",
        "2. The number of epochs for training the model.\n",
        "3. The sizes of 1- and 2-hop neighbor samples for GraphSAGE:\n",
        "\n",
        "Note that the length of `num_samples` list defines the number of layers/iterations in the GraphSAGE encoder. In this example, we are defining a 2-layer GraphSAGE encoder."
      ]
    },
    {
      "cell_type": "code",
      "execution_count": 341,
      "metadata": {
        "id": "eND3Q7P4bCf-"
      },
      "outputs": [],
      "source": [
        "batch_size = 50\n",
        "epochs = 4\n",
        "num_samples = [10, 5]"
      ]
    },
    {
      "cell_type": "markdown",
      "metadata": {
        "id": "KE7DBh7YbCf-"
      },
      "source": [
        "In the following we show the working of node pair generator with the UnsupervisedSampler, which will generate samples on demand."
      ]
    },
    {
      "cell_type": "code",
      "source": [
        "unsupervised_samples"
      ],
      "metadata": {
        "colab": {
          "base_uri": "https://localhost:8080/"
        },
        "id": "Mlo0vByQSjSM",
        "outputId": "01125cb2-16bc-4ed3-bff8-585907e61498"
      },
      "execution_count": 209,
      "outputs": [
        {
          "output_type": "execute_result",
          "data": {
            "text/plain": [
              "<stellargraph.data.unsupervised_sampler.UnsupervisedSampler at 0x7f5794a94490>"
            ]
          },
          "metadata": {},
          "execution_count": 209
        }
      ]
    },
    {
      "cell_type": "code",
      "source": [
        "generator"
      ],
      "metadata": {
        "colab": {
          "base_uri": "https://localhost:8080/"
        },
        "id": "6z0nBO-QShv8",
        "outputId": "1c6832c1-e560-42a7-a867-384255962e88"
      },
      "execution_count": 210,
      "outputs": [
        {
          "output_type": "execute_result",
          "data": {
            "text/plain": [
              "<stellargraph.mapper.sampled_link_generators.GraphSAGELinkGenerator at 0x7f5794b54c50>"
            ]
          },
          "metadata": {},
          "execution_count": 210
        }
      ]
    },
    {
      "cell_type": "code",
      "execution_count": 342,
      "metadata": {
        "id": "d8XVOYPObCf_"
      },
      "outputs": [],
      "source": [
        "generator = GraphSAGELinkGenerator(G1, batch_size, num_samples)\n",
        "train_gen = generator.flow(unsupervised_samples)"
      ]
    },
    {
      "cell_type": "markdown",
      "metadata": {
        "id": "QcRGD_F0bCf_"
      },
      "source": [
        "Build the model: a 2-layer GraphSAGE encoder acting as node representation learner, with a link classification layer on concatenated (`citing-paper`, `cited-paper`) node embeddings.\n",
        "\n",
        "GraphSAGE part of the model, with hidden layer sizes of 50 for both GraphSAGE layers, a bias term, and no dropout. (Dropout can be switched on by specifying a positive dropout rate, 0 < dropout < 1).\n",
        "Note that the length of `layer_sizes` list must be equal to the length of `num_samples`, as `len(num_samples)` defines the number of hops (layers) in the GraphSAGE encoder."
      ]
    },
    {
      "cell_type": "code",
      "execution_count": 343,
      "metadata": {
        "id": "6Bl0ikOXbCf_"
      },
      "outputs": [],
      "source": [
        "layer_sizes = [50, 50]\n",
        "graphsage = GraphSAGE(\n",
        "    layer_sizes=layer_sizes, generator=generator, bias=True, dropout=0.0, normalize=\"l2\"\n",
        ")"
      ]
    },
    {
      "cell_type": "code",
      "execution_count": 344,
      "metadata": {
        "id": "te9l0lzrbCf_"
      },
      "outputs": [],
      "source": [
        "# Build the model and expose input and output sockets of graphsage, for node pair inputs:\n",
        "x_inp, x_out = graphsage.in_out_tensors()"
      ]
    },
    {
      "cell_type": "markdown",
      "metadata": {
        "id": "DoEFmmeYbCf_"
      },
      "source": [
        "Final node pair classification layer that takes a pair of nodes' embeddings produced by `graphsage` encoder, applies a binary operator to them to produce the corresponding node pair embedding (`ip` for inner product; other options for the binary operator can be seen by running a cell with `?link_classification` in it), and passes it through a dense layer:"
      ]
    },
    {
      "cell_type": "code",
      "source": [
        "x_out"
      ],
      "metadata": {
        "colab": {
          "base_uri": "https://localhost:8080/"
        },
        "id": "AYGf-phh-A1u",
        "outputId": "3d818214-214f-4f13-9539-6544188286a8"
      },
      "execution_count": 215,
      "outputs": [
        {
          "output_type": "execute_result",
          "data": {
            "text/plain": [
              "[<KerasTensor: shape=(None, 50) dtype=float32 (created by layer 'lambda_1')>,\n",
              " <KerasTensor: shape=(None, 50) dtype=float32 (created by layer 'lambda_1')>]"
            ]
          },
          "metadata": {},
          "execution_count": 215
        }
      ]
    },
    {
      "cell_type": "code",
      "execution_count": 345,
      "metadata": {
        "colab": {
          "base_uri": "https://localhost:8080/"
        },
        "id": "V-g4SOjsbCf_",
        "outputId": "d71acd46-4cdc-479a-e6c0-3265752dcb6b"
      },
      "outputs": [
        {
          "output_type": "stream",
          "name": "stdout",
          "text": [
            "link_classification: using 'ip' method to combine node embeddings into edge embeddings\n"
          ]
        }
      ],
      "source": [
        "prediction = link_classification(\n",
        "    output_dim=1, output_act=\"sigmoid\", edge_embedding_method=\"ip\"\n",
        ")(x_out)"
      ]
    },
    {
      "cell_type": "markdown",
      "metadata": {
        "id": "FhRxv3OxbCf_"
      },
      "source": [
        "Stack the GraphSAGE encoder and prediction layer into a Keras model, and specify the loss"
      ]
    },
    {
      "cell_type": "code",
      "execution_count": 346,
      "metadata": {
        "colab": {
          "base_uri": "https://localhost:8080/"
        },
        "id": "KoUvboQvbCgA",
        "outputId": "970d6dee-cc48-4b04-d065-82091d51a9b1"
      },
      "outputs": [
        {
          "output_type": "stream",
          "name": "stderr",
          "text": [
            "/usr/local/lib/python3.7/dist-packages/keras/optimizer_v2/adam.py:105: UserWarning: The `lr` argument is deprecated, use `learning_rate` instead.\n",
            "  super(Adam, self).__init__(name, **kwargs)\n"
          ]
        }
      ],
      "source": [
        "model = keras.Model(inputs=x_inp, outputs=prediction)\n",
        "\n",
        "model.compile(\n",
        "    optimizer=keras.optimizers.Adam(lr=1e-3),\n",
        "    loss=keras.losses.binary_crossentropy,\n",
        "    metrics=[keras.metrics.binary_accuracy],\n",
        ")"
      ]
    },
    {
      "cell_type": "markdown",
      "metadata": {
        "id": "a0jGeeUdbCgA"
      },
      "source": [
        "**4. Train the model.**"
      ]
    },
    {
      "cell_type": "code",
      "execution_count": 347,
      "metadata": {
        "colab": {
          "base_uri": "https://localhost:8080/"
        },
        "id": "AiwpgJ7nbCgA",
        "outputId": "32cca29a-d66e-4b71-d58e-ff331a6628e3"
      },
      "outputs": [
        {
          "output_type": "stream",
          "name": "stdout",
          "text": [
            "Epoch 1/4\n",
            "34/34 [==============================] - 6s 114ms/step - loss: 0.6744 - binary_accuracy: 0.6410\n",
            "Epoch 2/4\n",
            "34/34 [==============================] - 4s 105ms/step - loss: 0.6554 - binary_accuracy: 0.6374\n",
            "Epoch 3/4\n",
            "34/34 [==============================] - 4s 118ms/step - loss: 0.6577 - binary_accuracy: 0.6286\n",
            "Epoch 4/4\n",
            "34/34 [==============================] - 4s 103ms/step - loss: 0.6530 - binary_accuracy: 0.6339\n"
          ]
        }
      ],
      "source": [
        "history = model.fit(\n",
        "    train_gen,\n",
        "    epochs=epochs,\n",
        "    verbose=1,\n",
        "    use_multiprocessing=False,\n",
        "    workers=4,\n",
        "    shuffle=True,\n",
        ")"
      ]
    },
    {
      "cell_type": "markdown",
      "metadata": {
        "id": "szc6-AGCbCgA"
      },
      "source": [
        "Note that multiprocessing is switched off, since with a large training set of node pairs, multiprocessing can considerably slow down the training process with the data being transferred between various processes. \n",
        "\n",
        "Also, multiple workers can be used with `Keras version 2.2.4` and above, and it speeds up the training process considerably due to multi-threading."
      ]
    },
    {
      "cell_type": "markdown",
      "metadata": {
        "id": "msbvr72obCgA"
      },
      "source": [
        "## Extracting node embeddings\n",
        "Now that the node pair classifier is trained, we can use its node encoder part as node embeddings evaluator. Below we evaluate node embeddings as activations of the output of GraphSAGE layer stack, and visualise them, coloring nodes by their subject label."
      ]
    },
    {
      "cell_type": "code",
      "execution_count": 348,
      "metadata": {
        "id": "2MB-3nu8bCgA"
      },
      "outputs": [],
      "source": [
        "from sklearn.decomposition import PCA\n",
        "from sklearn.manifold import TSNE\n",
        "from stellargraph.mapper import GraphSAGENodeGenerator\n",
        "import pandas as pd\n",
        "import numpy as np\n",
        "import matplotlib.pyplot as plt\n",
        "\n",
        "%matplotlib inline"
      ]
    },
    {
      "cell_type": "markdown",
      "metadata": {
        "id": "A0-UC-6KbCgA"
      },
      "source": [
        "**Building a new node-based model**\n",
        "\n",
        "The `(src, dst)` node pair classifier `model` has two identical node encoders: one for source nodes in the node pairs, the other for destination nodes in the node pairs passed to the model. We can use either of the two identical encoders to evaluate node embeddings. Below we create an embedding model by defining a new Keras model with `x_inp_src` (a list of odd elements in `x_inp`) and `x_out_src` (the 1st element in `x_out`) as input and output, respectively. Note that this model's weights are the same as those of the corresponding node encoder in the previously trained node pair classifier."
      ]
    },
    {
      "cell_type": "code",
      "execution_count": 349,
      "metadata": {
        "id": "itoOz3SabCgA"
      },
      "outputs": [],
      "source": [
        "x_inp_src = x_inp[0::2]\n",
        "x_out_src = x_out[0]\n",
        "embedding_model = keras.Model(inputs=x_inp_src, outputs=x_out_src)"
      ]
    },
    {
      "cell_type": "markdown",
      "metadata": {
        "id": "3D8k3i7wbCgA"
      },
      "source": [
        "We also need a node generator to feed graph nodes to `embedding_model`. We want to evaluate node embeddings for all nodes in the graph:"
      ]
    },
    {
      "cell_type": "code",
      "source": [
        "embedding_model"
      ],
      "metadata": {
        "colab": {
          "base_uri": "https://localhost:8080/"
        },
        "id": "8w2NiSVnOzLx",
        "outputId": "5ad387f2-b546-4f57-dc53-7c01e1051314"
      },
      "execution_count": 221,
      "outputs": [
        {
          "output_type": "execute_result",
          "data": {
            "text/plain": [
              "<keras.engine.functional.Functional at 0x7f57946738d0>"
            ]
          },
          "metadata": {},
          "execution_count": 221
        }
      ]
    },
    {
      "cell_type": "code",
      "source": [
        "mapping.values()"
      ],
      "metadata": {
        "colab": {
          "base_uri": "https://localhost:8080/"
        },
        "id": "uTXsO0yqPS3G",
        "outputId": "72e407a3-9f86-402d-c832-a9d68d781013"
      },
      "execution_count": 222,
      "outputs": [
        {
          "output_type": "execute_result",
          "data": {
            "text/plain": [
              "dict_values([0, 1, 2, 3, 4, 5, 6, 7, 8, 9, 10, 11, 12, 13, 14, 15, 16, 17, 18, 19, 20, 21, 22, 23, 24, 25, 26, 27, 28, 29, 30, 31, 32, 33, 34, 35, 36, 37, 38, 39, 40, 41, 42, 43, 44, 45, 46, 47, 48, 49, 50, 51, 52, 53, 54, 55, 56, 57, 58, 59, 60, 61, 62, 63, 64, 65, 66, 67, 68, 69, 70, 71, 72, 73, 74, 75, 76, 77, 78, 79, 80, 81, 82, 83, 84, 85, 86, 87, 88, 89, 90, 91, 92, 93, 94, 95, 96, 97, 98, 99, 100, 101, 102, 103, 104, 105, 106, 107, 108, 109, 110, 111, 112, 113, 114, 115, 116, 117, 118, 119, 120, 121, 122, 123, 124, 125, 126, 127, 128, 129, 130, 131, 132, 133, 134, 135, 136, 137, 138, 139, 140, 141, 142, 143, 144, 145, 146, 147, 148, 149, 150, 151, 152, 153, 154, 155, 156, 157, 158, 159, 160, 161, 162, 163, 164, 165, 166, 167, 168, 169, 170, 171, 172, 173, 174, 175, 176, 177, 178, 179, 180, 181, 182, 183, 184, 185, 186, 187, 188, 189, 190, 191, 192, 193, 194, 195, 196, 197, 198, 199, 200, 201, 202, 203, 204, 205, 206, 207, 208, 209, 210])"
            ]
          },
          "metadata": {},
          "execution_count": 222
        }
      ]
    },
    {
      "cell_type": "code",
      "execution_count": 350,
      "metadata": {
        "id": "d9t_RWO2bCgA"
      },
      "outputs": [],
      "source": [
        "node_ids = mapping.values()\n",
        "node_gen = GraphSAGENodeGenerator(G1, batch_size, num_samples).flow(node_ids)"
      ]
    },
    {
      "cell_type": "markdown",
      "metadata": {
        "id": "dbLpDqppbCgB"
      },
      "source": [
        "We now use `node_gen` to feed all nodes into the embedding model and extract their embeddings:"
      ]
    },
    {
      "cell_type": "code",
      "execution_count": 351,
      "metadata": {
        "colab": {
          "base_uri": "https://localhost:8080/"
        },
        "id": "3hcYdQNpbCgB",
        "outputId": "7cc9171e-6f4d-4f60-dee8-56db2463b2c9"
      },
      "outputs": [
        {
          "output_type": "stream",
          "name": "stdout",
          "text": [
            "5/5 [==============================] - 1s 15ms/step\n"
          ]
        }
      ],
      "source": [
        "node_embeddings = embedding_model.predict(node_gen, workers=4, verbose=1)"
      ]
    },
    {
      "cell_type": "markdown",
      "metadata": {
        "id": "kxDIPrUKbCgB"
      },
      "source": [
        "### Visualize the node embeddings \n",
        "Next we visualize the node embeddings in 2D using t-SNE. Colors of the nodes depict their true classes (subject in the case of Cora dataset) of the nodes. "
      ]
    },
    {
      "cell_type": "code",
      "source": [
        "node_subjects"
      ],
      "metadata": {
        "colab": {
          "base_uri": "https://localhost:8080/"
        },
        "id": "DqUePDQ4PgPK",
        "outputId": "cd21a749-5dbc-4532-8ed3-311bce85366a"
      },
      "execution_count": 225,
      "outputs": [
        {
          "output_type": "execute_result",
          "data": {
            "text/plain": [
              "31336             Neural_Networks\n",
              "1061127             Rule_Learning\n",
              "1106406    Reinforcement_Learning\n",
              "13195      Reinforcement_Learning\n",
              "37879       Probabilistic_Methods\n",
              "                    ...          \n",
              "1128975        Genetic_Algorithms\n",
              "1128977        Genetic_Algorithms\n",
              "1128978        Genetic_Algorithms\n",
              "117328                 Case_Based\n",
              "24043             Neural_Networks\n",
              "Name: subject, Length: 2708, dtype: object"
            ]
          },
          "metadata": {},
          "execution_count": 225
        }
      ]
    },
    {
      "cell_type": "code",
      "execution_count": 352,
      "metadata": {
        "colab": {
          "base_uri": "https://localhost:8080/"
        },
        "id": "7WZUfKjkbCgB",
        "outputId": "a5757e58-a1f7-4fe7-82e9-700d9d21d7ef"
      },
      "outputs": [
        {
          "output_type": "stream",
          "name": "stderr",
          "text": [
            "/usr/local/lib/python3.7/dist-packages/sklearn/manifold/_t_sne.py:783: FutureWarning: The default initialization in TSNE will change from 'random' to 'pca' in 1.2.\n",
            "  FutureWarning,\n",
            "/usr/local/lib/python3.7/dist-packages/sklearn/manifold/_t_sne.py:793: FutureWarning: The default learning rate in TSNE will change from 200.0 to 'auto' in 1.2.\n",
            "  FutureWarning,\n"
          ]
        }
      ],
      "source": [
        "node_subject = mapping.values()\n",
        "\n",
        "X = node_embeddings\n",
        "if X.shape[1] > 2:\n",
        "    transform = TSNE  # PCA\n",
        "\n",
        "    trans = transform(n_components=2)\n",
        "    emb_transformed = pd.DataFrame(trans.fit_transform(X), index=node_ids)\n",
        "    emb_transformed[\"label\"] = node_subject\n",
        "else:\n",
        "    emb_transformed = pd.DataFrame(X, index=node_ids)\n",
        "    emb_transformed = emb_transformed.rename(columns={\"0\": 0, \"1\": 1})\n",
        "    emb_transformed[\"label\"] = node_subject"
      ]
    },
    {
      "cell_type": "code",
      "source": [
        "emb_transformed"
      ],
      "metadata": {
        "colab": {
          "base_uri": "https://localhost:8080/",
          "height": 423
        },
        "id": "OSCIi57dPtny",
        "outputId": "c8968878-a39e-4233-d909-bdaa3fa32f6c"
      },
      "execution_count": 353,
      "outputs": [
        {
          "output_type": "execute_result",
          "data": {
            "text/plain": [
              "             0          1  label\n",
              "0    -2.187356  22.991068      0\n",
              "1    -2.162762  23.604834      1\n",
              "2    -5.159074 -13.929218      2\n",
              "3    -5.171397 -13.903211      3\n",
              "4    -2.657074  22.651989      4\n",
              "..         ...        ...    ...\n",
              "206  23.465040   5.784109    206\n",
              "207  -9.715437  -9.993150    207\n",
              "208 -12.950215  -5.554930    208\n",
              "209 -15.397526  -2.401392    209\n",
              "210  -6.589457 -14.620637    210\n",
              "\n",
              "[211 rows x 3 columns]"
            ],
            "text/html": [
              "\n",
              "  <div id=\"df-1c30b4e1-bbad-4d4c-936d-52109862a819\">\n",
              "    <div class=\"colab-df-container\">\n",
              "      <div>\n",
              "<style scoped>\n",
              "    .dataframe tbody tr th:only-of-type {\n",
              "        vertical-align: middle;\n",
              "    }\n",
              "\n",
              "    .dataframe tbody tr th {\n",
              "        vertical-align: top;\n",
              "    }\n",
              "\n",
              "    .dataframe thead th {\n",
              "        text-align: right;\n",
              "    }\n",
              "</style>\n",
              "<table border=\"1\" class=\"dataframe\">\n",
              "  <thead>\n",
              "    <tr style=\"text-align: right;\">\n",
              "      <th></th>\n",
              "      <th>0</th>\n",
              "      <th>1</th>\n",
              "      <th>label</th>\n",
              "    </tr>\n",
              "  </thead>\n",
              "  <tbody>\n",
              "    <tr>\n",
              "      <th>0</th>\n",
              "      <td>-2.187356</td>\n",
              "      <td>22.991068</td>\n",
              "      <td>0</td>\n",
              "    </tr>\n",
              "    <tr>\n",
              "      <th>1</th>\n",
              "      <td>-2.162762</td>\n",
              "      <td>23.604834</td>\n",
              "      <td>1</td>\n",
              "    </tr>\n",
              "    <tr>\n",
              "      <th>2</th>\n",
              "      <td>-5.159074</td>\n",
              "      <td>-13.929218</td>\n",
              "      <td>2</td>\n",
              "    </tr>\n",
              "    <tr>\n",
              "      <th>3</th>\n",
              "      <td>-5.171397</td>\n",
              "      <td>-13.903211</td>\n",
              "      <td>3</td>\n",
              "    </tr>\n",
              "    <tr>\n",
              "      <th>4</th>\n",
              "      <td>-2.657074</td>\n",
              "      <td>22.651989</td>\n",
              "      <td>4</td>\n",
              "    </tr>\n",
              "    <tr>\n",
              "      <th>...</th>\n",
              "      <td>...</td>\n",
              "      <td>...</td>\n",
              "      <td>...</td>\n",
              "    </tr>\n",
              "    <tr>\n",
              "      <th>206</th>\n",
              "      <td>23.465040</td>\n",
              "      <td>5.784109</td>\n",
              "      <td>206</td>\n",
              "    </tr>\n",
              "    <tr>\n",
              "      <th>207</th>\n",
              "      <td>-9.715437</td>\n",
              "      <td>-9.993150</td>\n",
              "      <td>207</td>\n",
              "    </tr>\n",
              "    <tr>\n",
              "      <th>208</th>\n",
              "      <td>-12.950215</td>\n",
              "      <td>-5.554930</td>\n",
              "      <td>208</td>\n",
              "    </tr>\n",
              "    <tr>\n",
              "      <th>209</th>\n",
              "      <td>-15.397526</td>\n",
              "      <td>-2.401392</td>\n",
              "      <td>209</td>\n",
              "    </tr>\n",
              "    <tr>\n",
              "      <th>210</th>\n",
              "      <td>-6.589457</td>\n",
              "      <td>-14.620637</td>\n",
              "      <td>210</td>\n",
              "    </tr>\n",
              "  </tbody>\n",
              "</table>\n",
              "<p>211 rows × 3 columns</p>\n",
              "</div>\n",
              "      <button class=\"colab-df-convert\" onclick=\"convertToInteractive('df-1c30b4e1-bbad-4d4c-936d-52109862a819')\"\n",
              "              title=\"Convert this dataframe to an interactive table.\"\n",
              "              style=\"display:none;\">\n",
              "        \n",
              "  <svg xmlns=\"http://www.w3.org/2000/svg\" height=\"24px\"viewBox=\"0 0 24 24\"\n",
              "       width=\"24px\">\n",
              "    <path d=\"M0 0h24v24H0V0z\" fill=\"none\"/>\n",
              "    <path d=\"M18.56 5.44l.94 2.06.94-2.06 2.06-.94-2.06-.94-.94-2.06-.94 2.06-2.06.94zm-11 1L8.5 8.5l.94-2.06 2.06-.94-2.06-.94L8.5 2.5l-.94 2.06-2.06.94zm10 10l.94 2.06.94-2.06 2.06-.94-2.06-.94-.94-2.06-.94 2.06-2.06.94z\"/><path d=\"M17.41 7.96l-1.37-1.37c-.4-.4-.92-.59-1.43-.59-.52 0-1.04.2-1.43.59L10.3 9.45l-7.72 7.72c-.78.78-.78 2.05 0 2.83L4 21.41c.39.39.9.59 1.41.59.51 0 1.02-.2 1.41-.59l7.78-7.78 2.81-2.81c.8-.78.8-2.07 0-2.86zM5.41 20L4 18.59l7.72-7.72 1.47 1.35L5.41 20z\"/>\n",
              "  </svg>\n",
              "      </button>\n",
              "      \n",
              "  <style>\n",
              "    .colab-df-container {\n",
              "      display:flex;\n",
              "      flex-wrap:wrap;\n",
              "      gap: 12px;\n",
              "    }\n",
              "\n",
              "    .colab-df-convert {\n",
              "      background-color: #E8F0FE;\n",
              "      border: none;\n",
              "      border-radius: 50%;\n",
              "      cursor: pointer;\n",
              "      display: none;\n",
              "      fill: #1967D2;\n",
              "      height: 32px;\n",
              "      padding: 0 0 0 0;\n",
              "      width: 32px;\n",
              "    }\n",
              "\n",
              "    .colab-df-convert:hover {\n",
              "      background-color: #E2EBFA;\n",
              "      box-shadow: 0px 1px 2px rgba(60, 64, 67, 0.3), 0px 1px 3px 1px rgba(60, 64, 67, 0.15);\n",
              "      fill: #174EA6;\n",
              "    }\n",
              "\n",
              "    [theme=dark] .colab-df-convert {\n",
              "      background-color: #3B4455;\n",
              "      fill: #D2E3FC;\n",
              "    }\n",
              "\n",
              "    [theme=dark] .colab-df-convert:hover {\n",
              "      background-color: #434B5C;\n",
              "      box-shadow: 0px 1px 3px 1px rgba(0, 0, 0, 0.15);\n",
              "      filter: drop-shadow(0px 1px 2px rgba(0, 0, 0, 0.3));\n",
              "      fill: #FFFFFF;\n",
              "    }\n",
              "  </style>\n",
              "\n",
              "      <script>\n",
              "        const buttonEl =\n",
              "          document.querySelector('#df-1c30b4e1-bbad-4d4c-936d-52109862a819 button.colab-df-convert');\n",
              "        buttonEl.style.display =\n",
              "          google.colab.kernel.accessAllowed ? 'block' : 'none';\n",
              "\n",
              "        async function convertToInteractive(key) {\n",
              "          const element = document.querySelector('#df-1c30b4e1-bbad-4d4c-936d-52109862a819');\n",
              "          const dataTable =\n",
              "            await google.colab.kernel.invokeFunction('convertToInteractive',\n",
              "                                                     [key], {});\n",
              "          if (!dataTable) return;\n",
              "\n",
              "          const docLinkHtml = 'Like what you see? Visit the ' +\n",
              "            '<a target=\"_blank\" href=https://colab.research.google.com/notebooks/data_table.ipynb>data table notebook</a>'\n",
              "            + ' to learn more about interactive tables.';\n",
              "          element.innerHTML = '';\n",
              "          dataTable['output_type'] = 'display_data';\n",
              "          await google.colab.output.renderOutput(dataTable, element);\n",
              "          const docLink = document.createElement('div');\n",
              "          docLink.innerHTML = docLinkHtml;\n",
              "          element.appendChild(docLink);\n",
              "        }\n",
              "      </script>\n",
              "    </div>\n",
              "  </div>\n",
              "  "
            ]
          },
          "metadata": {},
          "execution_count": 353
        }
      ]
    },
    {
      "cell_type": "code",
      "execution_count": 366,
      "metadata": {
        "colab": {
          "base_uri": "https://localhost:8080/",
          "height": 457
        },
        "id": "oyFH4X7XbCgB",
        "outputId": "b4bacdf5-10f6-471a-9146-f07888aa73e9"
      },
      "outputs": [
        {
          "output_type": "display_data",
          "data": {
            "text/plain": [
              "<Figure size 504x504 with 1 Axes>"
            ],
            "image/png": "[encoded data removed]"
          },
          "metadata": {
            "needs_background": "light"
          }
        }
      ],
      "source": [
        "alpha = 0.7\n",
        "\n",
        "fig, ax = plt.subplots(figsize=(7, 7))\n",
        "ax.scatter(\n",
        "    emb_transformed[0],\n",
        "    emb_transformed[1],\n",
        "    c=c_id,\n",
        "    cmap=\"jet\",\n",
        "    alpha=alpha,\n",
        ")\n",
        "ax.set(aspect=\"equal\", xlabel=\"$X_1$\", ylabel=\"$X_2$\")\n",
        "plt.title(\n",
        "    \"visualization of GraphSAGE embeddings for forked dataset\"\n",
        ")\n",
        "plt.show()"
      ]
    },
    {
      "cell_type": "markdown",
      "metadata": {
        "id": "NXXTwjelbCgB"
      },
      "source": [
        "The observation that same-colored nodes in the embedding space are concentrated together is indicative  of similarity of embeddings of papers on the same topics. We would emphasize here again that the node embeddings are learnt in unsupervised way, without using true class labels. "
      ]
    },
    {
      "cell_type": "markdown",
      "metadata": {
        "id": "LMGDtq9dbCgB"
      },
      "source": [
        "## Downstream task\n",
        "\n",
        "The node embeddings calculated using the unsupervised GraphSAGE can be used as node feature vectors in a downstream task such as node classification. \n",
        "\n",
        "In this example, we will use the  node embeddings to train a simple Logistic Regression classifier to predict paper subjects in Cora dataset."
      ]
    },
    {
      "cell_type": "code",
      "execution_count": 354,
      "metadata": {
        "id": "GtgVyVvhbCgC"
      },
      "outputs": [],
      "source": [
        "# X will hold the 50 input features (node embeddings)\n",
        "X = node_embeddings\n",
        "# y holds the corresponding target values\n",
        "y = np.array(node_subject)"
      ]
    },
    {
      "cell_type": "markdown",
      "metadata": {
        "id": "SppkmpyBbCgC"
      },
      "source": [
        "### Data Splitting\n",
        "\n",
        "We split the data into train and test sets. \n",
        "\n",
        "We use 5% of the data for training and the remaining 95% for testing as a hold out test set."
      ]
    },
    {
      "cell_type": "code",
      "execution_count": null,
      "metadata": {
        "id": "pcvxAhOrbCgC"
      },
      "outputs": [],
      "source": [
        "X_train, X_test, y_train, y_test = train_test_split(\n",
        "    X, y, train_size=0.05, test_size=None, stratify=y\n",
        ")"
      ]
    },
    {
      "cell_type": "markdown",
      "metadata": {
        "id": "rs0O4-81bCgC"
      },
      "source": [
        "### Classifier Training\n",
        "\n",
        "We train a Logistic Regression classifier on the training data. "
      ]
    },
    {
      "cell_type": "code",
      "execution_count": null,
      "metadata": {
        "id": "rUc27j3tbCgC",
        "outputId": "b3f421de-b415-458b-f9d5-da9bf0f7c179"
      },
      "outputs": [
        {
          "data": {
            "text/plain": [
              "LogisticRegression(C=1.0, class_weight=None, dual=False, fit_intercept=True,\n",
              "                   intercept_scaling=1, l1_ratio=None, max_iter=100,\n",
              "                   multi_class='auto', n_jobs=None, penalty='l2',\n",
              "                   random_state=None, solver='lbfgs', tol=0.0001, verbose=0,\n",
              "                   warm_start=False)"
            ]
          },
          "execution_count": 21,
          "metadata": {},
          "output_type": "execute_result"
        }
      ],
      "source": [
        "clf = LogisticRegression(verbose=0, solver=\"lbfgs\", multi_class=\"auto\")\n",
        "clf.fit(X_train, y_train)"
      ]
    },
    {
      "cell_type": "markdown",
      "metadata": {
        "id": "jLt5Z9XzbCgC"
      },
      "source": [
        "Predict the hold out test set."
      ]
    },
    {
      "cell_type": "code",
      "execution_count": null,
      "metadata": {
        "id": "QMDtkA9TbCgD"
      },
      "outputs": [],
      "source": [
        "y_pred = clf.predict(X_test)"
      ]
    },
    {
      "cell_type": "markdown",
      "metadata": {
        "id": "8YWE-80xbCgD"
      },
      "source": [
        "Calculate the accuracy of the classifier on the test set."
      ]
    },
    {
      "cell_type": "code",
      "execution_count": null,
      "metadata": {
        "id": "VG2jrTfgbCgD",
        "outputId": "6392a255-e27f-4842-f239-ac0f8400c42f"
      },
      "outputs": [
        {
          "data": {
            "text/plain": [
              "0.7427127866303925"
            ]
          },
          "execution_count": 23,
          "metadata": {},
          "output_type": "execute_result"
        }
      ],
      "source": [
        "accuracy_score(y_test, y_pred)"
      ]
    },
    {
      "cell_type": "markdown",
      "metadata": {
        "id": "052y6X0ObCgD"
      },
      "source": [
        "The obtained accuracy is pretty decent, better than that obtained by using node embeddings obtained by `node2vec` that ignores node attributes, only taking into account the graph structure (see this [demo](node2vec-embeddings.ipynb)). "
      ]
    },
    {
      "cell_type": "markdown",
      "metadata": {
        "id": "7I7myvUGbCgD"
      },
      "source": [
        "**Predicted classes**"
      ]
    },
    {
      "cell_type": "code",
      "execution_count": null,
      "metadata": {
        "id": "bsZvnHBybCgD",
        "outputId": "3ad4ff72-53e7-4464-b5d6-b2fdd7f675e7"
      },
      "outputs": [
        {
          "data": {
            "text/plain": [
              "2    831\n",
              "1    428\n",
              "6    406\n",
              "3    356\n",
              "0    334\n",
              "4    195\n",
              "5     23\n",
              "dtype: int64"
            ]
          },
          "execution_count": 24,
          "metadata": {},
          "output_type": "execute_result"
        }
      ],
      "source": [
        "pd.Series(y_pred).value_counts()"
      ]
    },
    {
      "cell_type": "markdown",
      "metadata": {
        "id": "i2SvqRmQbCgD"
      },
      "source": [
        "**True classes**"
      ]
    },
    {
      "cell_type": "code",
      "execution_count": null,
      "metadata": {
        "id": "CXU_9dxNbCgD",
        "outputId": "912970d0-0b67-4941-a7a1-00e638cada3c"
      },
      "outputs": [
        {
          "data": {
            "text/plain": [
              "2    818\n",
              "3    426\n",
              "1    418\n",
              "6    351\n",
              "0    298\n",
              "4    217\n",
              "5    180\n",
              "dtype: int64"
            ]
          },
          "execution_count": 25,
          "metadata": {},
          "output_type": "execute_result"
        }
      ],
      "source": [
        "pd.Series(y).value_counts()"
      ]
    },
    {
      "cell_type": "code",
      "source": [
        "node_embeddings"
      ],
      "metadata": {
        "colab": {
          "base_uri": "https://localhost:8080/"
        },
        "id": "1D_VUST923wY",
        "outputId": "4f302737-3790-4951-f403-0d7072b0c65e"
      },
      "execution_count": 295,
      "outputs": [
        {
          "output_type": "execute_result",
          "data": {
            "text/plain": [
              "array([[ 0.13812712,  0.16992188,  0.13909547, ..., -0.18410075,\n",
              "         0.1564802 ,  0.13880438],\n",
              "       [ 0.13812712,  0.16992188,  0.13909547, ..., -0.18410075,\n",
              "         0.1564802 ,  0.13880438],\n",
              "       [-0.11315416, -0.06545565, -0.07081185, ...,  0.23292111,\n",
              "        -0.19928086, -0.13840051],\n",
              "       ...,\n",
              "       [-0.217944  , -0.09474046, -0.115486  , ...,  0.05580651,\n",
              "        -0.04836078, -0.04036038],\n",
              "       [ 0.02125438,  0.02614682,  0.02140339, ...,  0.24433064,\n",
              "        -0.2106709 , -0.17569184],\n",
              "       [-0.21099557, -0.09171997, -0.11180412, ...,  0.08093026,\n",
              "        -0.06959727, -0.05812354]], dtype=float32)"
            ]
          },
          "metadata": {},
          "execution_count": 295
        }
      ]
    },
    {
      "cell_type": "code",
      "source": [
        "from sklearn.cluster import KMeans"
      ],
      "metadata": {
        "id": "JsyhBw2jawmc"
      },
      "execution_count": 355,
      "outputs": []
    },
    {
      "cell_type": "code",
      "source": [
        "wcss = [] \n",
        "for i in range(2, 8): \n",
        "    kmeans = KMeans(n_clusters = i, init = \"k-means++\", random_state = 42)\n",
        "    kmeans.fit_predict(node_embeddings) \n",
        "    wcss.append(kmeans.inertia_)"
      ],
      "metadata": {
        "id": "yvHJHIXXucQ-"
      },
      "execution_count": 377,
      "outputs": []
    },
    {
      "cell_type": "code",
      "source": [
        "plt.plot(range(2, 8), wcss)\n",
        "plt.xlabel('Number of clusters')\n",
        "plt.ylabel('WCSS') \n",
        "plt.show()"
      ],
      "metadata": {
        "colab": {
          "base_uri": "https://localhost:8080/",
          "height": 279
        },
        "id": "4-cY_VwhuiL5",
        "outputId": "ed89fe41-9f1d-4953-bd7c-fb66e7d421cf"
      },
      "execution_count": 378,
      "outputs": [
        {
          "output_type": "display_data",
          "data": {
            "text/plain": [
              "<Figure size 432x288 with 1 Axes>"
            ],
            "image/png": "[encoded data removed]"
          },
          "metadata": {
            "needs_background": "light"
          }
        }
      ]
    },
    {
      "cell_type": "code",
      "source": [
        "kmeans = KMeans(n_clusters = 6, init = \"k-means++\", random_state = 42)\n",
        "c_id = kmeans.fit_predict(node_embeddings)\n"
      ],
      "metadata": {
        "id": "yIuL8JmSawjM"
      },
      "execution_count": 362,
      "outputs": []
    },
    {
      "cell_type": "code",
      "source": [
        "len(kmeans.cluster_centers_[0])"
      ],
      "metadata": {
        "colab": {
          "base_uri": "https://localhost:8080/"
        },
        "id": "CoPP9A152w1q",
        "outputId": "62a7f543-46e9-460b-c49e-55a979846d51"
      },
      "execution_count": 363,
      "outputs": [
        {
          "output_type": "execute_result",
          "data": {
            "text/plain": [
              "50"
            ]
          },
          "metadata": {},
          "execution_count": 363
        }
      ]
    },
    {
      "cell_type": "code",
      "source": [
        "from sklearn.metrics import silhouette_samples, silhouette_score\n",
        "silhouette_avg = silhouette_score(X, c_id)"
      ],
      "metadata": {
        "id": "oKS6-ybqD6Du"
      },
      "execution_count": 364,
      "outputs": []
    },
    {
      "cell_type": "code",
      "source": [
        "metrics.davies_bouldin_score(X, c_id)"
      ],
      "metadata": {
        "colab": {
          "base_uri": "https://localhost:8080/"
        },
        "id": "sRMIf9oFbhrA",
        "outputId": "10c967b5-e294-4bd6-fd89-e2a713475c82"
      },
      "execution_count": 365,
      "outputs": [
        {
          "output_type": "execute_result",
          "data": {
            "text/plain": [
              "0.22807187886824254"
            ]
          },
          "metadata": {},
          "execution_count": 365
        }
      ]
    },
    {
      "cell_type": "code",
      "source": [
        "silhouette_avg"
      ],
      "metadata": {
        "colab": {
          "base_uri": "https://localhost:8080/"
        },
        "id": "zJghW6odEUJZ",
        "outputId": "3a16491a-c1e5-4981-c0ee-a56f8df82a1d"
      },
      "execution_count": 360,
      "outputs": [
        {
          "output_type": "execute_result",
          "data": {
            "text/plain": [
              "0.869137"
            ]
          },
          "metadata": {},
          "execution_count": 360
        }
      ]
    },
    {
      "cell_type": "code",
      "source": [
        "kmeans.inertia_"
      ],
      "metadata": {
        "colab": {
          "base_uri": "https://localhost:8080/"
        },
        "id": "0rldUfwhawgj",
        "outputId": "f23eaab8-e7b0-4f43-fa52-5462a0380085"
      },
      "execution_count": 234,
      "outputs": [
        {
          "output_type": "execute_result",
          "data": {
            "text/plain": [
              "0.7288283109664917"
            ]
          },
          "metadata": {},
          "execution_count": 234
        }
      ]
    },
    {
      "cell_type": "code",
      "source": [
        "db = DBSCAN(eps=0.3, min_samples=10).fit(node_embeddings)"
      ],
      "metadata": {
        "id": "Jn0NC5ONawd5"
      },
      "execution_count": 367,
      "outputs": []
    },
    {
      "cell_type": "code",
      "source": [
        "labels=db.labels_"
      ],
      "metadata": {
        "id": "Vxq7fHiO4c5E"
      },
      "execution_count": 368,
      "outputs": []
    },
    {
      "cell_type": "code",
      "source": [
        "index=np.where(labels == -1)\n",
        "index[0][0]"
      ],
      "metadata": {
        "colab": {
          "base_uri": "https://localhost:8080/"
        },
        "id": "lwV5Y0eq40J_",
        "outputId": "1cc00a2a-31db-435c-ff52-cfa38007cdba"
      },
      "execution_count": 285,
      "outputs": [
        {
          "output_type": "execute_result",
          "data": {
            "text/plain": [
              "2"
            ]
          },
          "metadata": {},
          "execution_count": 285
        }
      ]
    },
    {
      "cell_type": "code",
      "source": [
        "len(df)"
      ],
      "metadata": {
        "colab": {
          "base_uri": "https://localhost:8080/"
        },
        "id": "oiGcWEG7331o",
        "outputId": "3259dd38-bd1d-4f0f-9298-bd10835a4ae3"
      },
      "execution_count": 266,
      "outputs": [
        {
          "output_type": "execute_result",
          "data": {
            "text/plain": [
              "209"
            ]
          },
          "metadata": {},
          "execution_count": 266
        }
      ]
    },
    {
      "cell_type": "code",
      "source": [
        "l=list(labels)\n",
        "for i in range(len(list(index))):\n",
        "  l.pop(index[0][i])\n",
        "labels=l"
      ],
      "metadata": {
        "id": "poCUK1eOawbS"
      },
      "execution_count": 371,
      "outputs": []
    },
    {
      "cell_type": "code",
      "source": [
        "print(l)"
      ],
      "metadata": {
        "colab": {
          "base_uri": "https://localhost:8080/"
        },
        "id": "DIlBeeqz4gU4",
        "outputId": "3adbaf0e-8e4e-45e7-ede9-5c918c7ceab4"
      },
      "execution_count": 372,
      "outputs": [
        {
          "output_type": "stream",
          "name": "stdout",
          "text": [
            "[0, 0, 0, 0, 0, 0, 0, 0, 0, 1, 0, 0, 0, 0, 0, 0, 0, 0, 0, 0, 0, 0, 0, 0, 0, 0, 0, 0, 1, 0, 0, 0, 0, 0, 0, 0, 1, 1, 1, 2, 1, 1, 1, 1, 1, 1, 1, 1, 1, 1, 1, 1, 1, 1, 1, 1, 1, 1, 1, 1, 2, 1, 1, 1, 1, 1, 1, 1, 1, 1, 1, 1, 1, 1, 1, 1, 1, 1, 2, 2, 2, 1, 2, 2, 2, 2, 1, 2, 2, 2, 2, 2, 2, 2, 1, 2, 2, 2, 2, 2, 2, 2, 2, 2, 2, 2, 2, 2, 2, 2, 2, 2, 2, 1, 2, 2, 2, 2, 1, 2, 1, 1, 2, 2, 2, 2, 2, 2, 2, 1, 2, 2, 2, 2, 2, 2, 1, 2, 2, 2, 2, 2, 2, 2, 2, 1, 2, 1, 2, 2, 2, 2, 2, 2, 2, 2, 1, 2, 1, 2, 2, 2, 1, 2, 2, 2, 2, 2, 2, 2, 2, 2, 1, 2, 2, 2, 2, 2, 1, 2, 2, 1, 2, 1, 2, 2, 2, 2, 2, 2, 1, 2, 2, 2, 2, 2, 1, 2, 2, 2, 2, 2, 2, 2, 1, 2, 2, 2, 2]\n"
          ]
        }
      ]
    },
    {
      "cell_type": "code",
      "source": [
        "len(l)"
      ],
      "metadata": {
        "colab": {
          "base_uri": "https://localhost:8080/",
          "height": 172
        },
        "id": "vLXLaz8W4WHH",
        "outputId": "05c197e4-2777-4d13-cbff-9b7d58ce2fe1"
      },
      "execution_count": 277,
      "outputs": [
        {
          "output_type": "error",
          "ename": "TypeError",
          "evalue": "ignored",
          "traceback": [
            "\u001b[0;31m---------------------------------------------------------------------------\u001b[0m",
            "\u001b[0;31mTypeError\u001b[0m                                 Traceback (most recent call last)",
            "\u001b[0;32m<ipython-input-277-e75269d816bd>\u001b[0m in \u001b[0;36m<module>\u001b[0;34m()\u001b[0m\n\u001b[0;32m----> 1\u001b[0;31m \u001b[0mlen\u001b[0m\u001b[0;34m(\u001b[0m\u001b[0ml\u001b[0m\u001b[0;34m)\u001b[0m\u001b[0;34m\u001b[0m\u001b[0;34m\u001b[0m\u001b[0m\n\u001b[0m",
            "\u001b[0;31mTypeError\u001b[0m: object of type 'NoneType' has no len()"
          ]
        }
      ]
    },
    {
      "cell_type": "code",
      "source": [
        "from sklearn import metrics\n",
        "core_samples_mask = np.zeros_like(db.labels_, dtype=bool)\n",
        "core_samples_mask[db.core_sample_indices_] = True\n",
        "labels = db.labels_\n",
        "\n",
        "# Number of clusters in labels, ignoring noise if present.\n",
        "n_clusters_ = len(set(labels)) - (1 if -1 in labels else 0)\n",
        "n_noise_ = list(labels).count(-1)\n",
        "\n",
        "print(\"Estimated number of clusters: %d\" % n_clusters_)\n",
        "print(\"Estimated number of noise points: %d\" % n_noise_)\n",
        "#print(\"Homogeneity: %0.3f\" % metrics.homogeneity_score(labels_true, labels))\n",
        "#print(\"Completeness: %0.3f\" % metrics.completeness_score(labels_true, labels))\n",
        "#print(\"V-measure: %0.3f\" % metrics.v_measure_score(labels_true, labels))\n",
        "#print(\"Adjusted Rand Index: %0.3f\" % metrics.adjusted_rand_score(labels_true, labels))\n",
        "#print(\n",
        "#    \"Adjusted Mutual Information: %0.3f\"\n",
        "#    % metrics.adjusted_mutual_info_score(labels_true, labels)\n",
        "#)\n",
        "print(\"Silhouette Coefficient: %0.3f\" % metrics.silhouette_score(X, labels))"
      ],
      "metadata": {
        "colab": {
          "base_uri": "https://localhost:8080/"
        },
        "id": "6rqzPO_CawYw",
        "outputId": "1e07acf8-3199-4ff8-97b8-5476f5c3c3e5"
      },
      "execution_count": 373,
      "outputs": [
        {
          "output_type": "stream",
          "name": "stdout",
          "text": [
            "Estimated number of clusters: 3\n",
            "Estimated number of noise points: 2\n",
            "Silhouette Coefficient: 0.867\n"
          ]
        }
      ]
    },
    {
      "cell_type": "code",
      "source": [
        "print(\"Silhouette Coefficient: %0.3f\" % metrics.davies_bouldin_score(X, labels))"
      ],
      "metadata": {
        "colab": {
          "base_uri": "https://localhost:8080/"
        },
        "id": "wgEfN8rObLT7",
        "outputId": "0f979833-4b98-4eae-9239-7e6b610c7f5a"
      },
      "execution_count": 293,
      "outputs": [
        {
          "output_type": "stream",
          "name": "stdout",
          "text": [
            "Silhouette Coefficient: 0.272\n"
          ]
        }
      ]
    },
    {
      "cell_type": "code",
      "source": [
        "clusters_df=pd.DataFrame(node_embeddings)"
      ],
      "metadata": {
        "id": "RLZ-t_d9f_YG"
      },
      "execution_count": 374,
      "outputs": []
    },
    {
      "cell_type": "code",
      "source": [
        "clusters_df['k_means_cluster']=c_id"
      ],
      "metadata": {
        "id": "RiY0HoZugKPu"
      },
      "execution_count": 375,
      "outputs": []
    },
    {
      "cell_type": "code",
      "source": [
        "clusters_df['dbscan_cluster']=labels"
      ],
      "metadata": {
        "id": "7oeI0rr6glKr"
      },
      "execution_count": 376,
      "outputs": []
    },
    {
      "cell_type": "code",
      "source": [
        "\n",
        "clusters_df['node_labels']=mapping.keys()"
      ],
      "metadata": {
        "id": "KwJo9F-okwZn"
      },
      "execution_count": 316,
      "outputs": []
    },
    {
      "cell_type": "code",
      "source": [
        "clusters_df[clusters_df['k_means_cluster']==]['node_labels']"
      ],
      "metadata": {
        "colab": {
          "base_uri": "https://localhost:8080/"
        },
        "id": "iykNm6KGkz9R",
        "outputId": "ad840df5-848a-47b4-ec6d-3e7295baea2d"
      },
      "execution_count": 323,
      "outputs": [
        {
          "output_type": "execute_result",
          "data": {
            "text/plain": [
              "0              pytorch\n",
              "1         transformers\n",
              "4            colesbury\n",
              "5            csarofeen\n",
              "6              gchanan\n",
              "7              zdevito\n",
              "8                 SsnL\n",
              "9            probtorch\n",
              "10           ptrpovtyu\n",
              "12         Moonlight56\n",
              "13            mtbrandy\n",
              "14      VitalyFedyunin\n",
              "15            surgan12\n",
              "16              Dawars\n",
              "17            aricheto\n",
              "18     hunter-packages\n",
              "19          EdwardSam4\n",
              "20            zhiqwang\n",
              "21           dl4fugaku\n",
              "22               RBFDO\n",
              "23    quickwritereader\n",
              "24       SplitInfinity\n",
              "25            Ches1422\n",
              "26            tryalice\n",
              "27     heitorschueroff\n",
              "28          rafi-cohen\n",
              "29         elizgarcia5\n",
              "31         dhruvdcoder\n",
              "32            forresti\n",
              "33       stanford-crfm\n",
              "34         Muennighoff\n",
              "35             onejiin\n",
              "36            tunib-ai\n",
              "37              swoook\n",
              "Name: node_labels, dtype: object"
            ]
          },
          "metadata": {},
          "execution_count": 323
        }
      ]
    },
    {
      "cell_type": "code",
      "source": [
        "clusters_df.k_means_cluster.value_counts()#.groupby('k-means_cluster').nunique()"
      ],
      "metadata": {
        "colab": {
          "base_uri": "https://localhost:8080/"
        },
        "id": "M11i31ffgraS",
        "outputId": "ceecd603-62da-4396-98f5-45fd3854ad53"
      },
      "execution_count": 313,
      "outputs": [
        {
          "output_type": "execute_result",
          "data": {
            "text/plain": [
              "1    106\n",
              "0     69\n",
              "2     34\n",
              "3      2\n",
              "Name: k_means_cluster, dtype: int64"
            ]
          },
          "metadata": {},
          "execution_count": 313
        }
      ]
    },
    {
      "cell_type": "code",
      "source": [
        "clusters_df.dbscan_cluster.value_counts()"
      ],
      "metadata": {
        "colab": {
          "base_uri": "https://localhost:8080/"
        },
        "id": "fS0HWFUOj60M",
        "outputId": "af878878-82df-42bd-c43b-66382933b44b"
      },
      "execution_count": 314,
      "outputs": [
        {
          "output_type": "execute_result",
          "data": {
            "text/plain": [
              " 1    106\n",
              " 2     69\n",
              " 0     34\n",
              "-1      2\n",
              "Name: dbscan_cluster, dtype: int64"
            ]
          },
          "metadata": {},
          "execution_count": 314
        }
      ]
    },
    {
      "cell_type": "code",
      "source": [
        "import matplotlib.pyplot as plt\n",
        "\n",
        "# Black removed and is used for noise instead.\n",
        "unique_labels = set(labels)\n",
        "colors = [plt.cm.Spectral(each) for each in np.linspace(0, 1, len(unique_labels))]\n",
        "for k, col in zip(unique_labels, colors):\n",
        "    if k == -1:\n",
        "        # Black used for noise.\n",
        "        col = [0, 0, 0, 1]\n",
        "\n",
        "    class_member_mask = labels == k\n",
        "\n",
        "    xy = X[class_member_mask & core_samples_mask]\n",
        "    plt.plot(\n",
        "        xy[:, 0],\n",
        "        xy[:, 1],\n",
        "        \"o\",\n",
        "        markerfacecolor=tuple(col),\n",
        "        markeredgecolor=\"k\",\n",
        "        markersize=14,\n",
        "    )\n",
        "\n",
        "    xy = X[class_member_mask & ~core_samples_mask]\n",
        "    plt.plot(\n",
        "        xy[:, 0],\n",
        "        xy[:, 1],\n",
        "        \"o\",\n",
        "        markerfacecolor=tuple(col),\n",
        "        markeredgecolor=\"k\",\n",
        "        markersize=6,\n",
        "    )\n",
        "\n",
        "plt.title(\"Estimated number of clusters: %d\" % n_clusters_)\n",
        "plt.show()"
      ],
      "metadata": {
        "colab": {
          "base_uri": "https://localhost:8080/",
          "height": 281
        },
        "id": "cRM5OAh8awV_",
        "outputId": "f3d33994-fbc6-49e9-ec58-9da0ad3d8c4b"
      },
      "execution_count": 259,
      "outputs": [
        {
          "output_type": "display_data",
          "data": {
            "text/plain": [
              "<Figure size 432x288 with 1 Axes>"
            ],
            "image/png": "[encoded data removed]"
          },
          "metadata": {
            "needs_background": "light"
          }
        }
      ]
    },
    {
      "cell_type": "markdown",
      "metadata": {
        "id": "IM8jFZU5bCgD"
      },
      "source": [
        "### Uses for unsupervised graph representation learning\n",
        "1. Unsupervised GraphSAGE learns embeddings of unlabeled graph nodes. This is highly useful as most of the real-world data is typically either unlabeled, or have noisy, unreliable, or sparse labels. In such scenarios unsupervised techniques that learn low-dimensional meaningful representation of nodes in a graph by leveraging the graph structure and features of the nodes is useful.\n",
        "2. Moreover, GraphSAGE is an inductive technique that allows us to obtain embeddings of unseen nodes, without the need to re-train the embedding model. That is, instead of training individual embeddings for each node (as in algorithms such as `node2vec` that learn a look-up table of node embeddings), GraphSAGE learns a function that generates embeddings by sampling and aggregating attributes from each node's local neighborhood, and combining those with the node's own attributes."
      ]
    },
    {
      "cell_type": "markdown",
      "metadata": {
        "nbsphinx": "hidden",
        "tags": [
          "CloudRunner"
        ],
        "id": "60odIrQMbCgE"
      },
      "source": [
        "<table><tr><td>Run the latest release of this notebook:</td><td><a href=\"https://mybinder.org/v2/gh/stellargraph/stellargraph/master?urlpath=lab/tree/demos/embeddings/graphsage-unsupervised-sampler-embeddings.ipynb\" alt=\"Open In Binder\" target=\"_parent\"><img src=\"https://mybinder.org/badge_logo.svg\"/></a></td><td><a href=\"https://colab.research.google.com/github/stellargraph/stellargraph/blob/master/demos/embeddings/graphsage-unsupervised-sampler-embeddings.ipynb\" alt=\"Open In Colab\" target=\"_parent\"><img src=\"https://colab.research.google.com/assets/colab-badge.svg\"/></a></td></tr></table>"
      ]
    }
  ],
  "metadata": {
    "file_extension": ".py",
    "kernelspec": {
      "display_name": "Python 3",
      "language": "python",
      "name": "python3"
    },
    "language_info": {
      "codemirror_mode": {
        "name": "ipython",
        "version": 3
      },
      "file_extension": ".py",
      "mimetype": "text/x-python",
      "name": "python",
      "nbconvert_exporter": "python",
      "pygments_lexer": "ipython3",
      "version": "3.6.9"
    },
    "mimetype": "text/x-python",
    "name": "python",
    "npconvert_exporter": "python",
    "pygments_lexer": "ipython3",
    "version": 3,
    "colab": {
      "name": "graphsage-unsupervised-sampler-embeddings.ipynb",
      "provenance": []
    }
  },
  "nbformat": 4,
  "nbformat_minor": 0
}